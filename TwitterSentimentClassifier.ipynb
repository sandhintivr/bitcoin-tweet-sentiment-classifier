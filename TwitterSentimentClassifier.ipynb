{
 "cells": [
  {
   "cell_type": "code",
   "execution_count": 1,
   "metadata": {
    "collapsed": true
   },
   "outputs": [],
   "source": [
    "import matplotlib.pyplot as plt\n",
    "import csv\n",
    "import re\n",
    "import numpy as np\n",
    "import pandas as pd\n",
    "import nltk\n",
    "import time\n",
    "from IPython.display import display"
   ]
  },
  {
   "cell_type": "markdown",
   "metadata": {},
   "source": [
    "# Data Cleaning"
   ]
  },
  {
   "cell_type": "code",
   "execution_count": 2,
   "metadata": {
    "collapsed": false
   },
   "outputs": [
    {
     "name": "stdout",
     "output_type": "stream",
     "text": [
      "/home/ubuntu\n"
     ]
    }
   ],
   "source": [
    "%cd"
   ]
  },
  {
   "cell_type": "markdown",
   "metadata": {},
   "source": [
    "I used a corpus online of over 1.5 million tweets for my dataset. Since I didn't have the highest of processing power, I decided to create a parameter to collect a certain amount of tweets for my test and training set."
   ]
  },
  {
   "cell_type": "code",
   "execution_count": 3,
   "metadata": {
    "collapsed": false
   },
   "outputs": [],
   "source": [
    "def getTweetData(numTweets, numTestTweets):\n",
    "    sentiment = []\n",
    "    tweet = []\n",
    "    with open('nbs/data/twitter/Sentiment-Analysis-Dataset.csv') as text:\n",
    "        for line in text:\n",
    "            row = line.split(',')\n",
    "            sentiment.append(row[1])\n",
    "            tweet.append(row[3])\n",
    "        \n",
    "    del sentiment[0]\n",
    "    del tweet[0]\n",
    "    testSentiment = sentiment[numTweets+1:numTweets+numTestTweets+1]\n",
    "    testTweet = tweet[numTweets+1:numTweets+numTestTweets+1]\n",
    "    sentiment = sentiment[:numTweets]\n",
    "    tweet = tweet[:numTweets]\n",
    "    \n",
    "    #print len(sentiment)\n",
    "    #print len(tweet)\n",
    "    \n",
    "    return sentiment, tweet, testSentiment, testTweet"
   ]
  },
  {
   "cell_type": "markdown",
   "metadata": {},
   "source": [
    "Here, I clean all the individual texts in the tweets that I have collected. This function goes through every tweet and goes through every word and converts it to lower case, removes any username and/or links, removes additional white spaces, and replaces hashtags with its word."
   ]
  },
  {
   "cell_type": "code",
   "execution_count": 4,
   "metadata": {
    "collapsed": false
   },
   "outputs": [],
   "source": [
    "def cleanTweet(tweet):\n",
    "    for i in range(0, len(tweet) - 1):\n",
    "        #lower case and to string\n",
    "        tweet[i] = str(tweet[i]).lower()\n",
    "        #links to URL\n",
    "        tweet[i] = re.sub('((www\\.[^\\s]+)|(https?://[^\\s]+))','URL',tweet[i])\n",
    "        #username to AT_USER\n",
    "        tweet[i] = re.sub('@[^\\s]+','AT_USER',tweet[i])\n",
    "        #Remove white spaces\n",
    "        tweet[i] = re.sub('[\\s]+', ' ', tweet[i])\n",
    "        #replace #word with word\n",
    "        tweet[i] = re.sub(r'#([^\\s]+)', r'\\1', tweet[i])\n",
    "        #trim\n",
    "        tweet[i] = tweet[i].strip('\\'\"')\n",
    "    return tweet"
   ]
  },
  {
   "cell_type": "markdown",
   "metadata": {},
   "source": [
    "This function gets a list of all the \"stop words\" that may be present in the collected tweets. These stop words are words that are known to imply no effect on the sentiment value of the tweet."
   ]
  },
  {
   "cell_type": "code",
   "execution_count": 6,
   "metadata": {
    "collapsed": true
   },
   "outputs": [],
   "source": [
    "def getStopWordList(fileName):\n",
    "    stopWords = []\n",
    "    stopWords.append('AT_USER')\n",
    "    stopWords.append('URL')\n",
    "   \n",
    "    StopWordFile = open(fileName, 'r')\n",
    "    line = StopWordFile.readline()\n",
    "    while line:\n",
    "        word = line.strip()\n",
    "        stopWords.append(word)\n",
    "        line = StopWordFile.readline()\n",
    "    StopWordFile.close()\n",
    "    return stopWords"
   ]
  },
  {
   "cell_type": "markdown",
   "metadata": {},
   "source": [
    "This function gets a separate list of the words present in each individual tweet with the exception of the stop words."
   ]
  },
  {
   "cell_type": "code",
   "execution_count": 7,
   "metadata": {
    "collapsed": true
   },
   "outputs": [],
   "source": [
    "def getFeatureVector(tweet, stopWords):\n",
    "    featureVector = []\n",
    "    words = str(tweet).split()\n",
    "    for word in words:\n",
    "        word = word.strip('\\'\"?,.')\n",
    "        val = re.search(r\"^[a-zA-Z][a-zA-Z0-9]*$\", word)\n",
    "        if(word in stopWords or val is None):\n",
    "            continue\n",
    "        else:\n",
    "            featureVector.append(word.lower())\n",
    "            \n",
    "    return featureVector"
   ]
  },
  {
   "cell_type": "markdown",
   "metadata": {},
   "source": [
    "After we have a separated list of each feature vector of feature words for each tweet, I combined all of the unique feature words present in every feature vector in our training and test set."
   ]
  },
  {
   "cell_type": "code",
   "execution_count": 8,
   "metadata": {
    "collapsed": false
   },
   "outputs": [],
   "source": [
    "def getFeatureList(numTweets, numTestTweets):\n",
    "    featureList = []\n",
    "    full_tweets = []\n",
    "    full_test_tweets = []\n",
    "\n",
    "    sentiment, tweet, testSentiment, testTweet = getTweetData(numTweets, numTestTweets)\n",
    "    clean_tweet = cleanTweet(tweet)\n",
    "    clean_test_tweet = cleanTweet(testTweet)\n",
    "    stopWords = getStopWordList('nbs/data/twitter/stopwords.txt')\n",
    "    for i in range(0, len(clean_tweet) - 1):\n",
    "        featureVector = getFeatureVector(clean_tweet[i], stopWords)\n",
    "        featureList.extend(featureVector)\n",
    "        full_tweets.append((featureVector, sentiment[i]))\n",
    "    for i in range(0, len(clean_test_tweet) - 1):\n",
    "        featureVector = getFeatureVector(clean_test_tweet[i], stopWords)\n",
    "        featureList.extend(featureVector)\n",
    "        full_test_tweets.append((featureVector, testSentiment[i]))\n",
    "    featureList = list(set(featureList))\n",
    "    return featureList, full_tweets, full_test_tweets, sentiment, testSentiment, clean_tweet, clean_test_tweet, stopWords"
   ]
  },
  {
   "cell_type": "markdown",
   "metadata": {},
   "source": [
    "Finally, in order to create a valid input to our classifiers, we need to create a final list for each tweet of which feature words are or are not present in the tweet. Every feature word in the feature list will be present as either true or false depending on its appearance in the tweet."
   ]
  },
  {
   "cell_type": "code",
   "execution_count": 5,
   "metadata": {
    "collapsed": true
   },
   "outputs": [],
   "source": [
    "def extract_features(tweet):\n",
    "    tweet_words = set(tweet)\n",
    "    features = {}\n",
    "    for word in featureList:\n",
    "        features['contains(%s)' % word] = (word in tweet_words)\n",
    "    return features"
   ]
  },
  {
   "cell_type": "markdown",
   "metadata": {},
   "source": [
    "Now that I had the input structures, I decided to run an efficiency test on both the classifieres I'm going to use: Naive Bayes Classifier and Maximum Entropy Classifier. For this run, I decided to test the run time and accuracy for a training set between 1000 to 5000 tweets, with a test set of 1000 tweets."
   ]
  },
  {
   "cell_type": "code",
   "execution_count": 24,
   "metadata": {
    "collapsed": false
   },
   "outputs": [
    {
     "name": "stdout",
     "output_type": "stream",
     "text": [
      "  ==> Training (1 iterations)\n",
      "\n",
      "      Iteration    Log Likelihood    Accuracy\n",
      "      ---------------------------------------\n",
      "             1          -0.69315        0.330\n",
      "         Final          -0.58389        0.670\n",
      "[ 1000.             5.73080587    89.84243894    64.0641        72.3724    ]\n",
      "  ==> Training (1 iterations)\n",
      "\n",
      "      Iteration    Log Likelihood    Accuracy\n",
      "      ---------------------------------------\n",
      "             1          -0.69315        0.304\n",
      "         Final          -0.54958        0.696\n",
      "[ 2000.            15.36026406   238.91165495    71.1712        72.7728    ]\n",
      "  ==> Training (1 iterations)\n",
      "\n",
      "      Iteration    Log Likelihood    Accuracy\n",
      "      ---------------------------------------\n",
      "             1          -0.69315        0.294\n",
      "         Final          -0.53592        0.706\n",
      "[ 3000.            29.80183601   357.46104813    74.0741        77.0771    ]\n",
      "  ==> Training (1 iterations)\n",
      "\n",
      "      Iteration    Log Likelihood    Accuracy\n",
      "      ---------------------------------------\n",
      "             1          -0.69315        0.278\n",
      "         Final          -0.51251        0.722\n",
      "[ 4000.            56.56880879   884.06081605    67.968         66.5666    ]\n",
      "  ==> Training (1 iterations)\n",
      "\n",
      "      Iteration    Log Likelihood    Accuracy\n",
      "      ---------------------------------------\n",
      "             1          -0.69315        0.289\n",
      "         Final          -0.52898        0.711\n",
      "[ 5000.            88.78223109  1299.24442601    68.5686        52.6527    ]\n"
     ]
    }
   ],
   "source": [
    "startTweets = 1000\n",
    "endTweets = 5000\n",
    "jumpTweets = 1000\n",
    "numTestTweets = 1000\n",
    "run_time_tweets = np.zeros(((endTweets/jumpTweets),5))\n",
    "\n",
    "\n",
    "for numTweets in xrange(startTweets, endTweets + 1, jumpTweets):\n",
    "\n",
    "    featureList, full_tweets, full_test_tweets, sentiment, testSentiment, clean_tweet, clean_test_tweet, stopWords = getFeatureList(numTweets, numTestTweets)\n",
    "    training_set = nltk.classify.util.apply_features(extract_features, full_tweets)\n",
    "    testing_set = nltk.classify.util.apply_features(extract_features, full_test_tweets)\n",
    "    run_time_tweets[(numTweets-startTweets)/jumpTweets][0] = numTweets\n",
    "    \n",
    "    start_time = time.time()\n",
    "    NBClassifier = nltk.NaiveBayesClassifier.train(training_set)\n",
    "    end_time = time.time() - start_time   \n",
    "    run_time_tweets[(numTweets-startTweets)/jumpTweets][1] = end_time\n",
    "    \n",
    "    start_time = time.time()\n",
    "    MEClassifier = nltk.classify.maxent.MaxentClassifier.train(training_set, 'GIS', trace = 3, encoding = None, labels = None,\n",
    "                                                               gaussian_prior_sigma = 0, max_iter = 1)\n",
    "    end_time = time.time() - start_time\n",
    "    run_time_tweets[(numTweets-startTweets)/jumpTweets][2] = end_time\n",
    "    \n",
    "    run_time_tweets[(numTweets-startTweets)/jumpTweets][3] = round(nltk.classify.accuracy(NBClassifier, testing_set) * 100, 4)\n",
    "    run_time_tweets[(numTweets-startTweets)/jumpTweets][4] = round(nltk.classify.accuracy(MEClassifier, testing_set) * 100, 4)\n",
    "   \n",
    "    print(run_time_tweets[(numTweets-startTweets)/jumpTweets][:])\n",
    "    \n",
    "    #tweet_frame = pd.DataFrame(data = (num_data for num_data in run_time_tweets[:][0]), columns = 'numTweets')\n",
    "    #tweet_frame['runTime'] = (time_data for time_data in run_time_tweets[:][1])\n",
    "\n",
    "#display(tweet_frame)"
   ]
  },
  {
   "cell_type": "markdown",
   "metadata": {},
   "source": [
    "1-Column: Number of tweets in training set\n",
    "2-Column: Run time of Naive Bayes Classifier\n",
    "3-Column: Run time of Maximum Entropy Classifier\n",
    "4-Column: Accuracy of Naive Bayes Classifier\n",
    "5-Column: Accuracy of Maximum Entropy Classifier"
   ]
  },
  {
   "cell_type": "markdown",
   "metadata": {},
   "source": [
    "As you can see from the results, the NBC gradually increased in terms of run time while the MEC skyrocketed to almost 10 times longer than the run time of the NBC. Relating to the NBC having a much better run time stat, its accuracy measurements deemed to be pretty consistent over all training sets while the MEC varied heavily. As a result, I decided that the efficiency of the NBC would prove to be greater than that of the MEC in training and testing larger datasets."
   ]
  },
  {
   "cell_type": "code",
   "execution_count": 56,
   "metadata": {
    "collapsed": false
   },
   "outputs": [],
   "source": [
    "#run_time_tweets.shape\n",
    "#run_time_tweets\n",
    "run_time_tweetsREMAKE = [[1000, 5.7308, 89.8424, 64.0641, 72.3724],\n",
    "                         [2000, 15.3602, 238.9116, 71.1712, 72.7728],\n",
    "                         [3000, 29.8018, 357.4610, 74.0741, 77.0771],\n",
    "                         [4000, 56.5688, 884.0608, 67.968, 66.5666],\n",
    "                         [5000, 88.7822, 1299.2444, 68.5686, 52.6527]]"
   ]
  },
  {
   "cell_type": "code",
   "execution_count": 75,
   "metadata": {
    "collapsed": false
   },
   "outputs": [
    {
     "data": {
      "text/plain": [
       "[[1000, 5.7308, 89.8424, 64.0641, 72.3724],\n",
       " [2000, 15.3602, 238.9116, 71.1712, 72.7728],\n",
       " [3000, 29.8018, 357.461, 74.0741, 77.0771],\n",
       " [4000, 56.5688, 884.0608, 67.968, 66.5666],\n",
       " [5000, 88.7822, 1299.2444, 68.5686, 52.6527]]"
      ]
     },
     "execution_count": 75,
     "metadata": {},
     "output_type": "execute_result"
    }
   ],
   "source": [
    "run_time_tweetsREMAKE"
   ]
  },
  {
   "cell_type": "code",
   "execution_count": 82,
   "metadata": {
    "collapsed": false
   },
   "outputs": [],
   "source": [
    "run_timeAccuracy = pd.DataFrame(data = [remake[0] for remake in run_time_tweetsREMAKE], columns = ['numTweets'])\n",
    "run_timeAccuracy['NBruntime'] = [remake[1] for remake in run_time_tweetsREMAKE]\n",
    "run_timeAccuracy['MEruntime'] = [remake[2] for remake in run_time_tweetsREMAKE]\n",
    "run_timeAccuracy['NBaccuracy'] = [remake[3] for remake in run_time_tweetsREMAKE]\n",
    "run_timeAccuracy['MEaccuracy'] = [remake[4] for remake in run_time_tweetsREMAKE]"
   ]
  },
  {
   "cell_type": "code",
   "execution_count": 83,
   "metadata": {
    "collapsed": false
   },
   "outputs": [
    {
     "data": {
      "text/html": [
       "<div>\n",
       "<table border=\"1\" class=\"dataframe\">\n",
       "  <thead>\n",
       "    <tr style=\"text-align: right;\">\n",
       "      <th></th>\n",
       "      <th>numTweets</th>\n",
       "      <th>NBruntime</th>\n",
       "      <th>MEruntime</th>\n",
       "      <th>NBaccuracy</th>\n",
       "      <th>MEaccuracy</th>\n",
       "    </tr>\n",
       "  </thead>\n",
       "  <tbody>\n",
       "    <tr>\n",
       "      <th>0</th>\n",
       "      <td>1000</td>\n",
       "      <td>5.7308</td>\n",
       "      <td>89.8424</td>\n",
       "      <td>64.0641</td>\n",
       "      <td>72.3724</td>\n",
       "    </tr>\n",
       "    <tr>\n",
       "      <th>1</th>\n",
       "      <td>2000</td>\n",
       "      <td>15.3602</td>\n",
       "      <td>238.9116</td>\n",
       "      <td>71.1712</td>\n",
       "      <td>72.7728</td>\n",
       "    </tr>\n",
       "    <tr>\n",
       "      <th>2</th>\n",
       "      <td>3000</td>\n",
       "      <td>29.8018</td>\n",
       "      <td>357.4610</td>\n",
       "      <td>74.0741</td>\n",
       "      <td>77.0771</td>\n",
       "    </tr>\n",
       "    <tr>\n",
       "      <th>3</th>\n",
       "      <td>4000</td>\n",
       "      <td>56.5688</td>\n",
       "      <td>884.0608</td>\n",
       "      <td>67.9680</td>\n",
       "      <td>66.5666</td>\n",
       "    </tr>\n",
       "    <tr>\n",
       "      <th>4</th>\n",
       "      <td>5000</td>\n",
       "      <td>88.7822</td>\n",
       "      <td>1299.2444</td>\n",
       "      <td>68.5686</td>\n",
       "      <td>52.6527</td>\n",
       "    </tr>\n",
       "  </tbody>\n",
       "</table>\n",
       "</div>"
      ],
      "text/plain": [
       "   numTweets  NBruntime  MEruntime  NBaccuracy  MEaccuracy\n",
       "0       1000     5.7308    89.8424     64.0641     72.3724\n",
       "1       2000    15.3602   238.9116     71.1712     72.7728\n",
       "2       3000    29.8018   357.4610     74.0741     77.0771\n",
       "3       4000    56.5688   884.0608     67.9680     66.5666\n",
       "4       5000    88.7822  1299.2444     68.5686     52.6527"
      ]
     },
     "metadata": {},
     "output_type": "display_data"
    }
   ],
   "source": [
    "display(run_timeAccuracy)"
   ]
  },
  {
   "cell_type": "code",
   "execution_count": 88,
   "metadata": {
    "collapsed": false
   },
   "outputs": [],
   "source": [
    "NBtimetweets = pd.Series(data = run_timeAccuracy['NBruntime'].values, index = run_timeAccuracy['numTweets'])\n",
    "MEtimetweets = pd.Series(data = run_timeAccuracy['MEruntime'].values, index = run_timeAccuracy['numTweets'])"
   ]
  },
  {
   "cell_type": "code",
   "execution_count": 99,
   "metadata": {
    "collapsed": false
   },
   "outputs": [
    {
     "data": {
      "image/png": "[encoded data removed]",
      "text/plain": [
       "<matplotlib.figure.Figure at 0x7fc7f0024490>"
      ]
     },
     "metadata": {},
     "output_type": "display_data"
    }
   ],
   "source": [
    "NBtimetweets.plot(figsize = (16, 4), color = 'r', label = 'Naive Bayes', legend = True)\n",
    "MEtimetweets.plot(figsize = (16, 4), color = 'g', label = 'Maximum Entropy', legend = True)\n",
    "plt.ylabel('seconds')\n",
    "plt.show()"
   ]
  },
  {
   "cell_type": "markdown",
   "metadata": {},
   "source": [
    "# Training on large dataset tweets"
   ]
  },
  {
   "cell_type": "markdown",
   "metadata": {},
   "source": [
    "Now that I've decided on which classifier to use for my larger datasets, I tested the NBC on a training set of 10000 and test set of 1000."
   ]
  },
  {
   "cell_type": "code",
   "execution_count": 11,
   "metadata": {
    "collapsed": false
   },
   "outputs": [
    {
     "name": "stdout",
     "output_type": "stream",
     "text": [
      "[ 10000.            291.65515089     62.4625         84.01360416]\n"
     ]
    }
   ],
   "source": [
    "run_time_tweets = np.zeros((1,4))\n",
    "numTweets = 10000\n",
    "numTestTweets = 1000\n",
    "\n",
    "featureList, full_tweets, full_test_tweets, sentiment, testSentiment, clean_tweet, clean_test_tweet, stopWords = getFeatureList(numTweets, numTestTweets)\n",
    "training_set = nltk.classify.util.apply_features(extract_features, full_tweets)\n",
    "testing_set = nltk.classify.util.apply_features(extract_features, full_test_tweets)\n",
    "run_time_tweets[0][0] = numTweets\n",
    "    \n",
    "start_time = time.time()\n",
    "NBClassifier = nltk.NaiveBayesClassifier.train(training_set)\n",
    "end_time = time.time() - start_time\n",
    "run_time_tweets[0][1] = end_time\n",
    "\n",
    "start_time = time.time()\n",
    "run_time_tweets[0][2] = round(nltk.classify.accuracy(NBClassifier, testing_set) * 100, 4)\n",
    "end_time = time.time() - start_time\n",
    "run_time_tweets[0][3] = end_time\n",
    "   \n",
    "print(run_time_tweets[0][:])"
   ]
  },
  {
   "cell_type": "markdown",
   "metadata": {},
   "source": [
    "This ended up coming out with a 291.66 second training time with a 62.46% accuracy. The accuracy for the test set took 84.01 seconds to run through."
   ]
  },
  {
   "cell_type": "markdown",
   "metadata": {},
   "source": [
    "Now I decided to run a bigger training set of 50000 and a test set of 5000."
   ]
  },
  {
   "cell_type": "code",
   "execution_count": 12,
   "metadata": {
    "collapsed": false
   },
   "outputs": [
    {
     "name": "stdout",
     "output_type": "stream",
     "text": [
      "[ 50000.           4325.19606209     70.3341       1228.3966279 ]\n"
     ]
    }
   ],
   "source": [
    "run_time_tweets = np.zeros((1,4))\n",
    "numTweets = 50000\n",
    "numTestTweets = 5000\n",
    "\n",
    "featureList, full_tweets, full_test_tweets, sentiment, testSentiment, clean_tweet, clean_test_tweet, stopWords = getFeatureList(numTweets, numTestTweets)\n",
    "training_set = nltk.classify.util.apply_features(extract_features, full_tweets)\n",
    "testing_set = nltk.classify.util.apply_features(extract_features, full_test_tweets)\n",
    "run_time_tweets[0][0] = numTweets\n",
    "    \n",
    "start_time = time.time()\n",
    "NBClassifier = nltk.NaiveBayesClassifier.train(training_set)\n",
    "end_time = time.time() - start_time\n",
    "run_time_tweets[0][1] = end_time\n",
    "\n",
    "start_time = time.time()\n",
    "run_time_tweets[0][2] = round(nltk.classify.accuracy(NBClassifier, testing_set) * 100, 4)\n",
    "end_time = time.time() - start_time\n",
    "run_time_tweets[0][3] = end_time\n",
    "   \n",
    "print(run_time_tweets[0][:])"
   ]
  },
  {
   "cell_type": "markdown",
   "metadata": {},
   "source": [
    "This results in a training time of 4325.2 seconds with an accuracy of 70.33% accuracy, which is much better than the 10000 tweet training set. The test set took 1228.4 seconds to run through."
   ]
  },
  {
   "cell_type": "code",
   "execution_count": 13,
   "metadata": {
    "collapsed": true
   },
   "outputs": [],
   "source": [
    "import pickle\n",
    "f = open('nbs/data/twitter/NBClassifier.pickle', 'wb')\n",
    "pickle.dump(NBClassifier, f)\n",
    "f.close()"
   ]
  },
  {
   "cell_type": "code",
   "execution_count": 50,
   "metadata": {
    "collapsed": false
   },
   "outputs": [],
   "source": [
    "import pickle\n",
    "f = open('nbs/data/twitter/NBClassifier.pickle', 'rb')\n",
    "NBClassifierBitcoin = pickle.load(f)\n",
    "f.close()"
   ]
  },
  {
   "cell_type": "markdown",
   "metadata": {},
   "source": [
    "Now that I've trained our own tweet sentiment classifier on a 50000 tweet training dataset, we can check the most influential feature words and their concurrent values. A 0:1 indicates a negative sentiment score while a 1:0 indicates a positive sentiment score."
   ]
  },
  {
   "cell_type": "code",
   "execution_count": 74,
   "metadata": {
    "collapsed": false
   },
   "outputs": [
    {
     "name": "stdout",
     "output_type": "stream",
     "text": [
      "Most Informative Features\n",
      "        contains(bummed) = True                0 : 1      =     30.7 : 1.0\n",
      "     contains(cancelled) = True                0 : 1      =     25.3 : 1.0\n",
      "           contains(sad) = True                0 : 1      =     22.9 : 1.0\n",
      "   contains(musicmonday) = True                1 : 0      =     20.4 : 1.0\n",
      "  contains(followfriday) = True                1 : 0      =     18.1 : 1.0\n",
      "         contains(sucks) = True                0 : 1      =     16.6 : 1.0\n",
      "         contains(upset) = True                0 : 1      =     15.4 : 1.0\n",
      "         contains(awful) = True                0 : 1      =     15.2 : 1.0\n",
      "     contains(depressed) = True                0 : 1      =     15.2 : 1.0\n",
      "contains(congratulations) = True                1 : 0      =     15.1 : 1.0\n"
     ]
    }
   ],
   "source": [
    "NBClassifierBitcoin.show_most_informative_features(10)"
   ]
  },
  {
   "cell_type": "code",
   "execution_count": 17,
   "metadata": {
    "collapsed": false
   },
   "outputs": [
    {
     "data": {
      "text/plain": [
       "[('contains(bummed)', True),\n",
       " ('contains(cancelled)', True),\n",
       " ('contains(sad)', True),\n",
       " ('contains(musicmonday)', True),\n",
       " ('contains(followfriday)', True),\n",
       " ('contains(sucks)', True),\n",
       " ('contains(upset)', True),\n",
       " ('contains(awful)', True),\n",
       " ('contains(depressed)', True),\n",
       " ('contains(congratulations)', True)]"
      ]
     },
     "execution_count": 17,
     "metadata": {},
     "output_type": "execute_result"
    }
   ],
   "source": [
    "NBClassifier.most_informative_features(10)"
   ]
  },
  {
   "cell_type": "markdown",
   "metadata": {},
   "source": [
    "# Pseudo-labeling for Bitcoin"
   ]
  },
  {
   "cell_type": "code",
   "execution_count": 75,
   "metadata": {
    "collapsed": false
   },
   "outputs": [
    {
     "data": {
      "text/plain": [
       "29204"
      ]
     },
     "execution_count": 75,
     "metadata": {},
     "output_type": "execute_result"
    }
   ],
   "source": [
    "len(bitcoinFeatureList)"
   ]
  },
  {
   "cell_type": "markdown",
   "metadata": {},
   "source": [
    "Now that I've made a general classifier for general tweets, I need to finetune the classifier to suit more specifically, bitcoin tweets. The process is very similar to that of the general tweets, however we need to create several new inputs/outputs to the existing inputs/outputs."
   ]
  },
  {
   "cell_type": "markdown",
   "metadata": {},
   "source": [
    "This function like earlier, will set up our base inputs from the bitcoin tweets I collected from the bitcoin api, and will perform a method called pseudo-labeling, which takes unlabeled inputs such as bitcoin tweets, and use a classifier that was already made to create a sentiment output to attach to it. Now that the input tweets have their relative output sentiments, I can retrain my classifier on these bitcoin tweets to further improve the classifier."
   ]
  },
  {
   "cell_type": "code",
   "execution_count": 125,
   "metadata": {
    "collapsed": true
   },
   "outputs": [],
   "source": [
    "def getBitcoinTweetData(path):\n",
    "    sentiment = []\n",
    "    tweet = []\n",
    "    with open(path) as text:\n",
    "        for line in text:\n",
    "            #row = line.split(',')\n",
    "            tweet.append(line)            \n",
    "            \n",
    "    clean_bitcoin_tweet = cleanTweet(tweet)\n",
    "    for i in range(0, len(clean_bitcoin_tweet)):\n",
    "        sentiment.append(NBClassifierBitcoin.classify(extract_features(getFeatureVector(clean_bitcoin_tweet[i], stopWords))))\n",
    "\n",
    "    return sentiment, clean_bitcoin_tweet"
   ]
  },
  {
   "cell_type": "code",
   "execution_count": 21,
   "metadata": {
    "collapsed": true
   },
   "outputs": [],
   "source": [
    "bitcoinFeatureList = []\n",
    "bitcoinFeatureList = featureList"
   ]
  },
  {
   "cell_type": "markdown",
   "metadata": {},
   "source": [
    "This function gets the feature list of all the feature words in the bitcoin tweets."
   ]
  },
  {
   "cell_type": "code",
   "execution_count": 129,
   "metadata": {
    "collapsed": true
   },
   "outputs": [],
   "source": [
    "def getBitcoinFeatureList(path, bitcoinFeatureList):\n",
    "    full_tweets_bitcoin = []\n",
    "\n",
    "    sentiment, clean_bitcoin_tweet = getBitcoinTweetData(path)\n",
    "    \n",
    "    stopWords = getStopWordList('nbs/data/twitter/stopwords.txt')\n",
    "    for i in range(0, len(clean_bitcoin_tweet)):\n",
    "        featureVector = getFeatureVector(clean_bitcoin_tweet[i], stopWords)\n",
    "        bitcoinFeatureList.extend(featureVector)\n",
    "        full_tweets_bitcoin.append((featureVector, sentiment[i]))\n",
    "    bitcoinFeatureList = list(set(bitcoinFeatureList))\n",
    "    return bitcoinFeatureList, full_tweets_bitcoin, sentiment, clean_bitcoin_tweet, stopWords"
   ]
  },
  {
   "cell_type": "markdown",
   "metadata": {},
   "source": [
    "Now that I've set up the specific bitcoin functions I need, I started training our already present classifier on a training set of 4479 bitcoin tweets."
   ]
  },
  {
   "cell_type": "code",
   "execution_count": 130,
   "metadata": {
    "collapsed": false
   },
   "outputs": [
    {
     "name": "stdout",
     "output_type": "stream",
     "text": [
      "[ 4479.           522.44309187    70.3341      1393.73794317]\n"
     ]
    }
   ],
   "source": [
    "run_time_tweets = np.zeros((1,4))\n",
    "\n",
    "bitcoinFeatureList, full_tweets_bitcoin, sentiment, clean_bitcoin_tweet, stopWords = getBitcoinFeatureList('nbs/data/twitter/30m.csv', bitcoinFeatureList)\n",
    "training_set = nltk.classify.util.apply_features(extract_features, full_tweets_bitcoin)\n",
    "run_time_tweets[0][0] = len(clean_bitcoin_tweet)\n",
    "\n",
    "start_time = time.time()\n",
    "NBClassifierBitcoin.train(training_set)\n",
    "end_time = time.time() - start_time\n",
    "run_time_tweets[0][1] = end_time\n",
    "\n",
    "start_time = time.time()\n",
    "run_time_tweets[0][2] = round(nltk.classify.accuracy(NBClassifierBitcoin, testing_set) * 100, 4)\n",
    "end_time = time.time() - start_time\n",
    "run_time_tweets[0][3] = end_time\n",
    "\n",
    "print(run_time_tweets[0][:])"
   ]
  },
  {
   "cell_type": "code",
   "execution_count": 131,
   "metadata": {
    "collapsed": true
   },
   "outputs": [],
   "source": [
    "import pickle\n",
    "f = open('nbs/data/twitter/NBClassifierBitcoin.pickle', 'wb')\n",
    "pickle.dump(NBClassifierBitcoin, f)\n",
    "f.close()"
   ]
  },
  {
   "cell_type": "code",
   "execution_count": 132,
   "metadata": {
    "collapsed": false
   },
   "outputs": [
    {
     "name": "stdout",
     "output_type": "stream",
     "text": [
      "Most Informative Features\n",
      "        contains(bummed) = True                0 : 1      =     30.7 : 1.0\n",
      "     contains(cancelled) = True                0 : 1      =     25.3 : 1.0\n",
      "           contains(sad) = True                0 : 1      =     22.9 : 1.0\n",
      "   contains(musicmonday) = True                1 : 0      =     20.4 : 1.0\n",
      "  contains(followfriday) = True                1 : 0      =     18.1 : 1.0\n",
      "         contains(sucks) = True                0 : 1      =     16.6 : 1.0\n",
      "         contains(upset) = True                0 : 1      =     15.4 : 1.0\n",
      "         contains(awful) = True                0 : 1      =     15.2 : 1.0\n",
      "     contains(depressed) = True                0 : 1      =     15.2 : 1.0\n",
      "contains(congratulations) = True                1 : 0      =     15.1 : 1.0\n"
     ]
    }
   ],
   "source": [
    "NBClassifierBitcoin.show_most_informative_features(10)"
   ]
  },
  {
   "cell_type": "markdown",
   "metadata": {},
   "source": [
    "This function uses the bitcoin classifier to test on more bitcoin tweets along with the collective bitcoin tweets summation of sentiment over time."
   ]
  },
  {
   "cell_type": "code",
   "execution_count": 138,
   "metadata": {
    "collapsed": false
   },
   "outputs": [],
   "source": [
    "def bitcoinSentimentSummation(path):\n",
    "    sentiment_summation = [0]\n",
    "    sentiment, clean_bitcoin_tweet = getBitcoinTweetData(path)\n",
    "    sentiment_value = 0\n",
    "    for i in range(0, len(clean_bitcoin_tweet)):\n",
    "        if sentiment[i] == \"1\":\n",
    "            sentiment_value = 1\n",
    "            sentiment_summation.append(sentiment_summation[i] + sentiment_value)\n",
    "        elif sentiment[i] == \"0\":\n",
    "            sentiment_value = -1\n",
    "            sentiment_summation.append(sentiment_summation[i] + sentiment_value)\n",
    "    return sentiment, clean_bitcoin_tweet, sentiment_summation"
   ]
  },
  {
   "cell_type": "code",
   "execution_count": 139,
   "metadata": {
    "collapsed": false
   },
   "outputs": [],
   "source": [
    "sentiment, clean_bitcoin_tweet, sentiment_summation = bitcoinSentimentSummation('nbs/data/twitter/2h.csv')"
   ]
  },
  {
   "cell_type": "code",
   "execution_count": 140,
   "metadata": {
    "collapsed": false
   },
   "outputs": [
    {
     "data": {
      "text/plain": [
       "11463"
      ]
     },
     "execution_count": 140,
     "metadata": {},
     "output_type": "execute_result"
    }
   ],
   "source": [
    "len(sentiment)"
   ]
  },
  {
   "cell_type": "code",
   "execution_count": 141,
   "metadata": {
    "collapsed": false
   },
   "outputs": [
    {
     "data": {
      "text/plain": [
       "11463"
      ]
     },
     "execution_count": 141,
     "metadata": {},
     "output_type": "execute_result"
    }
   ],
   "source": [
    "len(clean_bitcoin_tweet)"
   ]
  },
  {
   "cell_type": "code",
   "execution_count": 142,
   "metadata": {
    "collapsed": false
   },
   "outputs": [
    {
     "data": {
      "text/plain": [
       "11464"
      ]
     },
     "execution_count": 142,
     "metadata": {},
     "output_type": "execute_result"
    }
   ],
   "source": [
    "len(sentiment_summation)"
   ]
  },
  {
   "cell_type": "code",
   "execution_count": 149,
   "metadata": {
    "collapsed": false
   },
   "outputs": [],
   "source": [
    "tweet_sentiment_frame = pd.DataFrame(clean_bitcoin_tweet)"
   ]
  },
  {
   "cell_type": "code",
   "execution_count": 151,
   "metadata": {
    "collapsed": true
   },
   "outputs": [],
   "source": [
    "tweet_sentiment_frame['sentiment'] = sentiment"
   ]
  },
  {
   "cell_type": "code",
   "execution_count": 158,
   "metadata": {
    "collapsed": false
   },
   "outputs": [
    {
     "data": {
      "text/html": [
       "<div>\n",
       "<table border=\"1\" class=\"dataframe\">\n",
       "  <thead>\n",
       "    <tr style=\"text-align: right;\">\n",
       "      <th></th>\n",
       "      <th>0</th>\n",
       "      <th>sentiment</th>\n",
       "    </tr>\n",
       "  </thead>\n",
       "  <tbody>\n",
       "    <tr>\n",
       "      <th>0</th>\n",
       "      <td>﻿rt AT_USER AT_USER there are only 21 million ...</td>\n",
       "      <td>1</td>\n",
       "    </tr>\n",
       "    <tr>\n",
       "      <th>1</th>\n",
       "      <td>virtual currency: the bitcoin guide howtominec...</td>\n",
       "      <td>1</td>\n",
       "    </tr>\n",
       "    <tr>\n",
       "      <th>2</th>\n",
       "      <td>rt AT_USER bitcoin rising above dollar!\\nhttps...</td>\n",
       "      <td>1</td>\n",
       "    </tr>\n",
       "    <tr>\n",
       "      <th>3</th>\n",
       "      <td>rt AT_USER i know the world is obsessed with t...</td>\n",
       "      <td>1</td>\n",
       "    </tr>\n",
       "    <tr>\n",
       "      <th>4</th>\n",
       "      <td>rt AT_USER what you thing about platform? \\n\\n...</td>\n",
       "      <td>0</td>\n",
       "    </tr>\n",
       "    <tr>\n",
       "      <th>5</th>\n",
       "      <td>meet the world's most powerful bitcoin backers...</td>\n",
       "      <td>1</td>\n",
       "    </tr>\n",
       "    <tr>\n",
       "      <th>6</th>\n",
       "      <td>rt AT_USER bitcoin giveaway 2: as promised, we...</td>\n",
       "      <td>0</td>\n",
       "    </tr>\n",
       "    <tr>\n",
       "      <th>7</th>\n",
       "      <td>join over 1.000.000 people with the world\\u201...</td>\n",
       "      <td>1</td>\n",
       "    </tr>\n",
       "    <tr>\n",
       "      <th>8</th>\n",
       "      <td>rt AT_USER bitcoin rising above dollar!\\nhttps...</td>\n",
       "      <td>1</td>\n",
       "    </tr>\n",
       "    <tr>\n",
       "      <th>9</th>\n",
       "      <td>rt AT_USER weed man only accepting bitcoin now</td>\n",
       "      <td>1</td>\n",
       "    </tr>\n",
       "  </tbody>\n",
       "</table>\n",
       "</div>"
      ],
      "text/plain": [
       "                                                   0 sentiment\n",
       "0  ﻿rt AT_USER AT_USER there are only 21 million ...         1\n",
       "1  virtual currency: the bitcoin guide howtominec...         1\n",
       "2  rt AT_USER bitcoin rising above dollar!\\nhttps...         1\n",
       "3  rt AT_USER i know the world is obsessed with t...         1\n",
       "4  rt AT_USER what you thing about platform? \\n\\n...         0\n",
       "5  meet the world's most powerful bitcoin backers...         1\n",
       "6  rt AT_USER bitcoin giveaway 2: as promised, we...         0\n",
       "7  join over 1.000.000 people with the world\\u201...         1\n",
       "8  rt AT_USER bitcoin rising above dollar!\\nhttps...         1\n",
       "9    rt AT_USER weed man only accepting bitcoin now          1"
      ]
     },
     "metadata": {},
     "output_type": "display_data"
    }
   ],
   "source": [
    "display(tweet_sentiment_frame[:10])"
   ]
  },
  {
   "cell_type": "code",
   "execution_count": 159,
   "metadata": {
    "collapsed": true
   },
   "outputs": [],
   "source": [
    "tweet_sentiment_summation_frame = pd.DataFrame(sentiment_summation)"
   ]
  },
  {
   "cell_type": "code",
   "execution_count": 161,
   "metadata": {
    "collapsed": true
   },
   "outputs": [],
   "source": [
    "tweet_sentiment_frame.to_csv('nbs/data/twitter/tweet_sentiment_frame')"
   ]
  },
  {
   "cell_type": "code",
   "execution_count": 162,
   "metadata": {
    "collapsed": true
   },
   "outputs": [],
   "source": [
    "tweet_sentiment_summation_frame.to_csv('nbs/data/twitter/tweet_sentiment_summation_frame')"
   ]
  }
 ],
 "metadata": {
  "anaconda-cloud": {},
  "kernelspec": {
   "display_name": "Python [conda root]",
   "language": "python",
   "name": "conda-root-py"
  },
  "language_info": {
   "codemirror_mode": {
    "name": "ipython",
    "version": 2
   },
   "file_extension": ".py",
   "mimetype": "text/x-python",
   "name": "python",
   "nbconvert_exporter": "python",
   "pygments_lexer": "ipython2",
   "version": "2.7.12"
  }
 },
 "nbformat": 4,
 "nbformat_minor": 1
}
