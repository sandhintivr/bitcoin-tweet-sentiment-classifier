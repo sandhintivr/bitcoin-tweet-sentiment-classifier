{
 "cells": [
  {
   "cell_type": "markdown",
   "metadata": {},
   "source": [
    "# Setting up Twitter API "
   ]
  },
  {
   "cell_type": "code",
   "execution_count": 124,
   "metadata": {
    "collapsed": false
   },
   "outputs": [],
   "source": [
    "%matplotlib inline\n",
    "import tweepy\n",
    "import pandas as pd\n",
    "import numpy as np\n",
    "\n",
    "from IPython.display import display\n",
    "import matplotlib.pyplot as plt\n",
    "from textblob import TextBlob\n",
    "import re"
   ]
  },
  {
   "cell_type": "code",
   "execution_count": 125,
   "metadata": {
    "collapsed": true
   },
   "outputs": [],
   "source": [
    "consumer_key = 'XWPLe64D8Jn8xjZrSLIGbkMYS'\n",
    "consumer_secret = 'GddzeZ3JtAWFesEIW0oIOYszXLM3DZvmJD2BbeUCF50PrkHfR6'\n",
    "\n",
    "access_token = '62859544-M3yQ1sbVPkrKFNRQs7JvO6merixEyGlIJqf0GMSEt'\n",
    "access_secret = 'zSaRFYstkZwU3y1WO4jPLabtayOMQSDMw7juvRABiZJt1'"
   ]
  },
  {
   "cell_type": "markdown",
   "metadata": {},
   "source": [
    "Setting up authenitication to use Twitter's API"
   ]
  },
  {
   "cell_type": "code",
   "execution_count": 126,
   "metadata": {
    "collapsed": true
   },
   "outputs": [],
   "source": [
    "def twitter_setup():\n",
    "    auth = tweepy.OAuthHandler(consumer_key, consumer_secret)\n",
    "    auth.set_access_token(access_token, access_secret)\n",
    "    api = tweepy.API(auth)\n",
    "    return api"
   ]
  },
  {
   "cell_type": "markdown",
   "metadata": {},
   "source": [
    "I collected 100 of the most recent \"bitcoin\" term-included tweets."
   ]
  },
  {
   "cell_type": "code",
   "execution_count": 127,
   "metadata": {
    "collapsed": false,
    "scrolled": true
   },
   "outputs": [
    {
     "name": "stdout",
     "output_type": "stream",
     "text": [
      "RT @hondadeal4vets: Can bitcoin get me top\n",
      "()\n",
      "RT @CNSSupport: CyberMonday FOREX VPS - 30% off Annual Plan!\n",
      "\n",
      "The most secure &amp; connected VPS\n",
      "\n",
      "Telephone support\n",
      "Two-factor authentication…\n",
      "()\n",
      "RT @CNSSupport: CyberMonday FOREX VPS - 30% off Annual Plan!\n",
      "\n",
      "The most secure &amp; connected VPS\n",
      "\n",
      "Telephone support\n",
      "Two-factor authentication…\n",
      "()\n",
      "RT @BTCTN: The Bitcoin Entanglement\n",
      " https://t.co/7AjJd5OMl9 #tbbt https://t.co/qsFMWJN1fc\n",
      "()\n",
      "Bitcoin is the new Pokémon Go: https://t.co/gZ1amhqYZf\n",
      "()\n",
      "RT @BTCTN: PR: Uservice Is a Global Decentralized Blockchain Platform for the Auto Industry https://t.co/nGybmJvFpp #Bitcoin https://t.co/7…\n",
      "()\n",
      "RT @Nadia__Rafiq: What is #Bitcoin and #BitcoinMining? \n",
      "https://t.co/4anFiP8CAw #Blockchain #Fintech #Mpgvip #Cryptocurrency #Defstar5 #AI…\n",
      "()\n",
      "RT @bitcoinist: Bitcoin Now Worth More Than Nike, Disney, McDonald’s, and IBM https://t.co/saajmQnH1O #bitcoin #blockchain #cryptocurrency\n",
      "()\n",
      "RT @kuriharan: Check. Deutsche Bank warns investors from #Bitcoin https://t.co/tn1Hol7iWl #tech #digital #data #blockchain #Business\n",
      "()\n",
      "RT @SimplyVitalHQ: We’re creating a new kind of healthcare ecosystem with blockchain - read how here! https://t.co/cvTZXalw0X  #cryptocurre…\n",
      "()\n",
      "Bitcoin's 1000 % increase in value during 2017 sparks fear of a bubble about to burst  https://t.co/86m34EB7Bm\n",
      "()\n",
      "@PeterLBrandt Dear Peter, which previous market does Bitcoin reminds u off historically?\n",
      "()\n",
      "Bitcoin - vår tids tulpanlök eller vår tids internet? https://t.co/kDCmpH7Iyk via @gadfly\n",
      "()\n",
      "RT @max46280yandex: Как заработать Биткоины - https://t.co/GLjO1ItgfV - https://t.co/0dP2OqjEeU #victors10000 #биткойн #Bitcoin #деньги #за…\n",
      "()\n",
      "RT @afonichev_dev: Widget for displaying the course of the crypto currency with updating of the data, every minute\n",
      "\n",
      "#widget #btc #xmr #bitc…\n",
      "()\n",
      "@nfosec19 I'm okay so far, I'm more interested in how bitcoin cash iterates to scale in the market.\n",
      "()\n",
      "RT @SatoshiLite: I just published “My Vision For SegWit And Lightning Networks On Litecoin And Bitcoin” https://t.co/lGOzDCxSrd\n",
      "()\n",
      "@zakc00p3r @hmaceater @papa_smurf34 I passed on bitcoin when it was $7 grow up\n",
      "()\n",
      "RT @SpirosMargaris: Visualizing the #Journey \n",
      "\n",
      "to $10,000 #Bitcoin \n",
      "\n",
      "https://t.co/egZLgph1Re #fintech #blockchain @VisualCap @Fisher85M @jb…\n",
      "()\n",
      "RT @CIF_Team: $10,000 Today? Bitcoin Price Primed to Break Psychological Barrier https://t.co/rhg3fX5BJb\n",
      "()\n",
      "RT @Sadieisonfire: cyber monday is the only day of the year that it’s legal to fuck a bitcoin\n",
      "()\n",
      "@GenesisMining Starting Again Missing Bitcoin Payout on 26 Nov... 😩😩😩\n",
      "()\n",
      "RT @DanBilzerian: For everyone asking, i have 50% Bitcoin, 25% ETH, 15% Monero and 10% Bitcoin Cash\n",
      "()\n",
      "RT @CIF_Team: Bitcoin is Breaking Through Symbolic Price Barriers Every Few Weeks https://t.co/KLhjABqn5t\n",
      "()\n",
      "https://t.co/nMoyG3NHSK\n",
      "()\n",
      "RT @DJThistle01: I've been calling Roger a piece of s*^t for well over a year because he's terrorizing the crypto space for no other reason…\n",
      "()\n",
      "RT @PENNYBUSTER1: Try Our Vip List!\n",
      "\n",
      "We Find The Biggest Movers On The Otc...\n",
      "\n",
      "Get Alerts, Picks, Scans and See Whats Happening Daily,\n",
      "\n",
      "Giv…\n",
      "()\n",
      "Συνεχίζεται η ξέφρενη πορεία του Bitcoin: Η αξία του πλησιάζει τα 10.000 δολάρια  https://t.co/m9nyZWB93L #naftemporiki\n",
      "()\n",
      "RT @NitroToken: Nitro #NOX Token | Today in Bitcoin News Podcast (2017-10-21) - LedgerX $1M Derivatives - Satoshi is 247th Riche... https:/…\n",
      "()\n",
      "RT @ICO_promotion: I just published “Is eSports betting legal?” https://t.co/h5vNy4vEWW @EsportsDotCom #ico #bitcoin #btc #ethereum #eth\n",
      "()\n",
      "RT @Aruwba: #CyberMonday Deal on my Premium snap, join b4 my next Snap Show\n",
      "Get it now for only $25\n",
      "No future payments! \n",
      "Hurry b4 I charge…\n",
      "()\n",
      "RT @electroneumnews: #Bitcoin mining consumes more electricity a year than Ireland. Need coins like #electroneum who run on less power! htt…\n",
      "()\n",
      "RT @CIF_Team: Short-Lived Shine? Bitcoin Gold Could Fall Under $300 https://t.co/itEp5YFa9a\n",
      "()\n",
      "\"The death of net neutrality could be the end of Bitcoin\" https://t.co/f99ZfkW4kN #dev\n",
      "()\n",
      "RT @Aruwba: #CyberMonday Deal on my Premium snap, join b4 my next Snap Show\n",
      "Get it now for only $25\n",
      "No future payments! \n",
      "Hurry b4 I charge…\n",
      "()\n",
      "RT @CBSNews: Nearly 10 U.S. households can be powered for one day by the electricity consumed for a single Bitcoin transaction, according t…\n",
      "()\n",
      "RT @bitcoinpoet: Cryptocurrency Exchange Reimburses Victims of Apparent ICO Scam, Confido https://t.co/3isMnpygGw #bitcoin\n",
      "()\n",
      "RT @AntifaBitcoin: When #Bitcoin hit's $10,000, we're taking the #AntifaPrivateJet to Sandals in the Bahamas to get away from all these Naz…\n",
      "()\n",
      "RT @kinesisplatform: Join our ICO and earn incredible rewards\n",
      "\n",
      "Simply by registering at https://t.co/UZOLxwP214 you already start to earn.…\n",
      "()\n",
      "RT @CIF_Team: Bitcoin Cracks $9,600 Just Hours After Breaking $9,000 Level https://t.co/Ca9b4gndxL\n",
      "()\n",
      "Omg!! I’ve just  hit $6,000,000 in Bitcoin and CryptoCurrency AltCoin Value... https://t.co/tfRt11uGzo\n",
      "()\n",
      "RT @dantebasco: I’m on that #Bitcoin right now... feeling like a pirate. It’s worth more than gold. #BitcoinGang\n",
      "()\n",
      "RT @Datavetaren: Why is gold valuable?\n",
      "• It’s durable\n",
      "• It’s portable\n",
      "• It’s divisible (weight, length of wire)\n",
      "• It’s fungible\n",
      "• Limited s…\n",
      "()\n",
      "@DAME_LAVIE Let me know if you have any questions. I always tell people start with at least a hundred in bitcoin. T… https://t.co/bSIbZ4AOiY\n",
      "()\n",
      "RT @gizmodojapan: Bitcoinが100万円超え。アメリカでは1Bitcoin1万ドルの大台に迫る https://t.co/MgvlVecKna https://t.co/tm3NhmhrSP\n",
      "()\n",
      "RT @CIF_Team: ‘Bitcoin Has Gone Parabolic,’ Art Cashin Warns https://t.co/GlbWbPqEyE\n",
      "()\n",
      "RT @ErikVoorhees: Bitcoin's market value is now larger than Goldman Sachs and Morgan Stanley https://t.co/vyCNCyyZrl #finance\n",
      "()\n",
      "RT @realsheepwolf: 👉 $INTV 👈 SEE WHY THIS IS A HUGE #bitcoin / #blockchain PLAY and SEVERELY UNDERVALUED⭐️\n",
      "⭐️CLICK HERE: https://t.co/xyEUl…\n",
      "()\n",
      "Bitcoin mining consumes more energy than 159 countries #Bitcoin #BTC #ETH #BCC #BCG [link\n",
      "()\n",
      "RT @RedditBTC: While everyone is jerking off on the price of Bitcoin, the US congress is sneaking the criminalization of bitcoiners in a he…\n",
      "()\n",
      "@BitcoinErrorLog You stood up to Roger for the entire Bitcoin community, you countered his deflections and misinfor… https://t.co/OroYIgYG0k\n",
      "()\n",
      "RT @SimplyVitalHQ: Have you heard about our partnership with @hartfordhosp Bone &amp; Joint Institute? https://t.co/GyZ1t1GmcY  #healthcare #bl…\n",
      "()\n",
      "RT @CIF_Team: For Traders, Bitcoin is a Bubble Unfolding Right Before Their Eyes https://t.co/QgQpMWSxkJ\n",
      "()\n",
      "RT @JonErlichman: Things that did not exist on Thanksgiving 10 years ago:\n",
      "\n",
      "Uber\n",
      "Airbnb\n",
      "Instagram\n",
      "Snapchat\n",
      "Bitcoin\n",
      "iPad\n",
      "Kickstarter\n",
      "Pinteres…\n",
      "()\n",
      "RT @BitcoinBtcNews: Korean Securities Broker Inks Deal with Local Bitcoin Exchange https://t.co/7f4NhsTIIu https://t.co/EcuvcDgxi5\n",
      "()\n",
      "RT @SimplyVitalHQ: Our CEO @kkuzmesk will be a panelist at @HITLABnyc 2017 HITLAB Innovators Summit Nov 30, hope we see you there! https://…\n",
      "()\n",
      "RT @realsheepwolf: 👉 $INTV 👈 SEE WHY THIS IS A HUGE #bitcoin / #blockchain PLAY and SEVERELY UNDERVALUED⭐️\n",
      "⭐️CLICK HERE: https://t.co/xyEUl…\n",
      "()\n",
      "When #Bitcoin hit's $10,000, we're taking the #AntifaPrivateJet to Sandals in the Bahamas to get away from all thes… https://t.co/2DsgjjSTG5\n",
      "()\n",
      "RT @brittanya187187: Cum jack off to my NUDE content now at https://t.co/5mRqhfnGNA 🎥💦👅 #Pocahontas #RoyalWedding2018 #glyphosate #bitcoin…\n",
      "()\n",
      "Retweeted CNBC's Fast Money (@CNBCFastMoney):\n",
      "\n",
      "The man who called #bitcoin $10K back in October now sees this... https://t.co/C9MhrzSgHa\n",
      "()\n",
      "RT @BitcoinCashFund: First #BitcoinCash project accepted for funding by the @BitcoinCashFund. #SeatacBCH. Find out more at \n",
      "\n",
      "https://t.co/j…\n",
      "()\n",
      "RT @cushbomb: Love to have my dick dissolve from dinosaur gonorrhea released from arctic permafrost because some nerd needed to mine enough…\n",
      "()\n",
      "RT @hondadeal4vets: Can bitcoin get me top\n",
      "()\n",
      "RT @LucydLtd: Get ready for dynamically evolving smartglasses! #GetLCD now at https://t.co/XGO2gpR1Yc . P.S. don't worry we will have it in…\n",
      "()\n",
      "RT @Swati_THN: @elonmusk Probably Invented Bitcoin???????? Hello Satoshi Nakamoto, How are you ;)\n",
      "\n",
      "https://t.co/bIfzqkUUgB\n",
      "()\n",
      "RT @Jamie_Delancey: Pistons &gt; Bitcoin https://t.co/mBvfwuz4RE\n",
      "()\n",
      "BTCTN \"https://t.co/y9OrMltQgm #southkorea https://t.co/7aIhSAXvvX\"\n",
      "()\n",
      "RT @CBSNews: Nearly 10 U.S. households can be powered for one day by the electricity consumed for a single Bitcoin transaction, according t…\n",
      "()\n",
      "RT @SimplyVitalHQ: “Unparalleled Investment Opportunities in Blockchain” Strong support for our vision. Read More! https://t.co/CP090xCAlj…\n",
      "()\n",
      "@immortal_5a @KiloGramCrypto @SilkyFlo @dgb_ycagel @coinbase @DigiByteCoin because bitcoin has increased 4-6 times… https://t.co/LIzKSwspei\n",
      "()\n",
      "RT @zerohedge: \"It's Going A Lot, Lot Higher\": Novogratz Sees Bitcoin \"Easily\" Reaching $40,000 Next Year, \"Ethereum Will Triple\" https://t…\n",
      "()\n",
      "Bitcoin skyrockets to all-time high above $8,700 https://t.co/SEgWrH0Lhe\n",
      "()\n",
      "Your medium football mom isnвЂ™t exploitation Bitcoin forms of money laundering. Equal nearly Americans, sheвЂ™s al… https://t.co/TXMfSiViFS\n",
      "()\n",
      "AML Bitcoin Will Make Digital Currencies Mainstream Observer - https://t.co/bwijS5lgDj\n",
      "()\n",
      "RT @semertzidis: https://t.co/qfLm6ocRq0\n",
      "()\n",
      "RT @SimplyVitalHQ: Our latest blog post celebrates the successful audit of our #SmartContracts AND the addition of a new employee (hint: it…\n",
      "()\n",
      "https://t.co/qdF33BFEsH\n",
      "()\n",
      "What is Blockchain Technology? A Step-by-Step Guide For Beginners\n",
      "https://t.co/4ocpU1IGhb #BlockChain #fintech… https://t.co/xmLYDshwv2\n",
      "()\n",
      "Bitcoin Mania Is Reaching A Fever Pitch\n",
      "\n",
      "https://t.co/QKI4BnGTWm\n",
      "()\n",
      "RT @btcshepherd: $BTC $BCH $LTC $ETH $XRP #crypto #bitcoin #moon \n",
      "1 Bitcoin Giveaway \n",
      "Follow &amp; RT to win one #BITCOIN winner announced in 4…\n",
      "()\n",
      "RT @bitcoincoid: Selamat pagi, Bitcoiners! Harga Bitcoin mencapai 135juta di pagi ini. Diikuti oleh beberapa altcoin, sementara Bitcoin Cas…\n",
      "()\n",
      "RT @CNBCFastMoney: The man who called #bitcoin $10K back in October now sees this @novogratz https://t.co/ZeO1ztoRUx\n",
      "()\n",
      "RT @realsheepwolf: 👉 $INTV 👈 SEE WHY THIS IS A HUGE #bitcoin / #blockchain PLAY and SEVERELY UNDERVALUED⭐️\n",
      "⭐️CLICK HERE: https://t.co/xyEUl…\n",
      "()\n",
      "@seth_bs @BittrexExchange @Abdulrazzaq1213 @BittrexExchange @ramikawach @richiela @jyap #Bittrex #BittrexTrouble… https://t.co/TvUA1Fz1ZS\n",
      "()\n",
      "Hey Oo~2 thanks for the follow! If you interested in Bitcoin? click the link for more information… https://t.co/Y1qvCzqycb\n",
      "()\n",
      "RT @NitroToken: Nitro #ICO | Why cryptocurrencies can hit $1 trillion market cap in 2018 + Bitcoin $25,000 https://t.co/kNBozRAMef https://…\n",
      "()\n",
      "@PeterLBrandt Your prediction for the bitcoin bubble crash time frame or price range?\n",
      "()\n",
      "https://t.co/te5jeUf1cR\n",
      "()\n",
      "RT @KennyPolcari: Bitcoin Guns for $10,000 as Cryptocurrency Mania Defies Skeptics.  Remember dot com? Will history repeat itself? https://…\n",
      "()\n",
      "Los 10.000 dólares, el próximo reto en el rally del bitcoin https://t.co/V5cJIoRByg\n",
      "()\n",
      "RT @chengevelyn: Billionaire hedge fund manager Ken Griffin says bitcoin has 'elements of the tulip bulb mania' https://t.co/pKra9ocoj0\n",
      "()\n",
      "RT @charliebilello: Bitcoin's market cap just passed Disney's.\n",
      "\n",
      "Yes, that Disney: \n",
      "Mickey Mouse\n",
      "Frozen\n",
      "Star Wars\n",
      "Marvel\n",
      "Pixar\n",
      "ABC\n",
      "ESPN\n",
      "12 T…\n",
      "()\n",
      "@JordanEliseo @Uber Chinese and Russians buying gold - \"Look at Bitcoin\" 😆\n",
      "()\n",
      "RT @BTCTN: The Bitcoin Entanglement\n",
      " https://t.co/7AjJd5OMl9 #tbbt https://t.co/qsFMWJN1fc\n",
      "()\n",
      "RARE FUNDED 0.1 BITCOIN / BITCOIN CASH LEALANA NO RESERVE https://t.co/FGv4QxGFJS\n",
      "()\n",
      "RT @intuitecon: What to hold going into #Bitcoin $10,000? $BTC $ETH $LTC $USD\n",
      "\n",
      "https://t.co/9w8NcxVwmX\n",
      "\n",
      "We follow large cap #Crypto:\n",
      "#Litec…\n",
      "()\n",
      "RT @afonichev_dev: Widget for displaying the course of the crypto currency with updating of the data, every minute\n",
      "\n",
      "#widget #btc #xmr #bitc…\n",
      "()\n",
      "RT @alvinlindsay21: Bitcoin Mania Is Reaching A Fever Pitch https://t.co/bxlTzLudmK via @Forbes https://t.co/WVq0h5gDUy\n",
      "()\n",
      "@PolyfoamPontiff You can't profit mining bitcoin at home anymore. \n",
      "https://t.co/5aGGBW11Jk\n",
      "()\n",
      "RT @Cointelegraph: As #Bitcoin passes General Electric market cap, bubble theories reemerge. https://t.co/qHMYATBdti\n",
      "()\n"
     ]
    }
   ],
   "source": [
    "twitter_api = twitter_setup()\n",
    "tweet_count = 100\n",
    "tweets = twitter_api.search('bitcoin', count = tweet_count)\n",
    "for tweet in tweets:\n",
    "    print(tweet.text)\n",
    "    print()"
   ]
  },
  {
   "cell_type": "code",
   "execution_count": 128,
   "metadata": {
    "collapsed": false
   },
   "outputs": [
    {
     "data": {
      "text/html": [
       "<div>\n",
       "<table border=\"1\" class=\"dataframe\">\n",
       "  <thead>\n",
       "    <tr style=\"text-align: right;\">\n",
       "      <th></th>\n",
       "      <th>OriginalTweets</th>\n",
       "    </tr>\n",
       "  </thead>\n",
       "  <tbody>\n",
       "    <tr>\n",
       "      <th>90</th>\n",
       "      <td>RT @chengevelyn: Billionaire hedge fund manage...</td>\n",
       "    </tr>\n",
       "    <tr>\n",
       "      <th>91</th>\n",
       "      <td>RT @charliebilello: Bitcoin's market cap just ...</td>\n",
       "    </tr>\n",
       "    <tr>\n",
       "      <th>92</th>\n",
       "      <td>@JordanEliseo @Uber Chinese and Russians buyin...</td>\n",
       "    </tr>\n",
       "    <tr>\n",
       "      <th>93</th>\n",
       "      <td>RT @BTCTN: The Bitcoin Entanglement\\n https://...</td>\n",
       "    </tr>\n",
       "    <tr>\n",
       "      <th>94</th>\n",
       "      <td>RARE FUNDED 0.1 BITCOIN / BITCOIN CASH LEALANA...</td>\n",
       "    </tr>\n",
       "    <tr>\n",
       "      <th>95</th>\n",
       "      <td>RT @intuitecon: What to hold going into #Bitco...</td>\n",
       "    </tr>\n",
       "    <tr>\n",
       "      <th>96</th>\n",
       "      <td>RT @afonichev_dev: Widget for displaying the c...</td>\n",
       "    </tr>\n",
       "    <tr>\n",
       "      <th>97</th>\n",
       "      <td>RT @alvinlindsay21: Bitcoin Mania Is Reaching ...</td>\n",
       "    </tr>\n",
       "    <tr>\n",
       "      <th>98</th>\n",
       "      <td>@PolyfoamPontiff You can't profit mining bitco...</td>\n",
       "    </tr>\n",
       "    <tr>\n",
       "      <th>99</th>\n",
       "      <td>RT @Cointelegraph: As #Bitcoin passes General ...</td>\n",
       "    </tr>\n",
       "  </tbody>\n",
       "</table>\n",
       "</div>"
      ],
      "text/plain": [
       "                                       OriginalTweets\n",
       "90  RT @chengevelyn: Billionaire hedge fund manage...\n",
       "91  RT @charliebilello: Bitcoin's market cap just ...\n",
       "92  @JordanEliseo @Uber Chinese and Russians buyin...\n",
       "93  RT @BTCTN: The Bitcoin Entanglement\\n https://...\n",
       "94  RARE FUNDED 0.1 BITCOIN / BITCOIN CASH LEALANA...\n",
       "95  RT @intuitecon: What to hold going into #Bitco...\n",
       "96  RT @afonichev_dev: Widget for displaying the c...\n",
       "97  RT @alvinlindsay21: Bitcoin Mania Is Reaching ...\n",
       "98  @PolyfoamPontiff You can't profit mining bitco...\n",
       "99  RT @Cointelegraph: As #Bitcoin passes General ..."
      ]
     },
     "metadata": {},
     "output_type": "display_data"
    }
   ],
   "source": [
    "twitter_data = pd.DataFrame(data = [tweet.text for tweet in tweets], columns = ['OriginalTweets'])\n",
    "display(twitter_data[-10:])"
   ]
  },
  {
   "cell_type": "markdown",
   "metadata": {},
   "source": [
    "This is a list of all the attributes of data for a single tweet. These attributes help me isolate bits of information from each tweet to use as data for our algorithms later on."
   ]
  },
  {
   "cell_type": "code",
   "execution_count": 129,
   "metadata": {
    "collapsed": false
   },
   "outputs": [
    {
     "name": "stdout",
     "output_type": "stream",
     "text": [
      "Status(contributors=None, truncated=False, text=u'RT @hondadeal4vets: Can bitcoin get me top', is_quote_status=False, in_reply_to_status_id=None, id=935341461465452544, favorite_count=0, _api=<tweepy.api.API object at 0x7f429918bf90>, author=User(follow_request_sent=False, has_extended_profile=False, profile_use_background_image=False, _json={u'follow_request_sent': False, u'has_extended_profile': False, u'profile_use_background_image': False, u'default_profile_image': False, u'id': 716613343, u'profile_background_image_url_https': u'https://pbs.twimg.com/profile_background_images/598062586765049856/mCzPoGMg.jpg', u'verified': False, u'translator_type': u'none', u'profile_text_color': u'000000', u'profile_image_url_https': u'https://pbs.twimg.com/profile_images/931163396917088256/jhTWIb_j_normal.jpg', u'profile_sidebar_fill_color': u'000000', u'entities': {u'url': {u'urls': [{u'url': u'https://t.co/Ux6CO7kuQj', u'indices': [0, 23], u'expanded_url': u'http://IfYouDontGetcho.com', u'display_url': u'IfYouDontGetcho.com'}]}, u'description': {u'urls': []}}, u'followers_count': 45, u'profile_sidebar_border_color': u'000000', u'id_str': u'716613343', u'profile_background_color': u'000000', u'listed_count': 0, u'is_translation_enabled': False, u'utc_offset': -21600, u'statuses_count': 2254, u'description': u'[Insert shit no one cares about here] \\n\\u2800 \\n   \\U0001f621\\u27a1\\U0001f608\\u27a1\\u2734\\U0001f479\\u2734', u'friends_count': 77, u'location': u'Memphis', u'profile_link_color': u'000000', u'profile_image_url': u'http://pbs.twimg.com/profile_images/931163396917088256/jhTWIb_j_normal.jpg', u'following': False, u'geo_enabled': False, u'profile_background_image_url': u'http://pbs.twimg.com/profile_background_images/598062586765049856/mCzPoGMg.jpg', u'screen_name': u'_MOBmarley', u'lang': u'en', u'profile_background_tile': True, u'favourites_count': 642, u'name': u'4/28', u'notifications': False, u'url': u'https://t.co/Ux6CO7kuQj', u'created_at': u'Wed Jul 25 19:24:32 +0000 2012', u'contributors_enabled': False, u'time_zone': u'Central Time (US & Canada)', u'protected': False, u'default_profile': False, u'is_translator': False}, time_zone=u'Central Time (US & Canada)', id=716613343, description=u'[Insert shit no one cares about here] \\n\\u2800 \\n   \\U0001f621\\u27a1\\U0001f608\\u27a1\\u2734\\U0001f479\\u2734', _api=<tweepy.api.API object at 0x7f429918bf90>, verified=False, profile_text_color=u'000000', profile_image_url_https=u'https://pbs.twimg.com/profile_images/931163396917088256/jhTWIb_j_normal.jpg', profile_sidebar_fill_color=u'000000', is_translator=False, geo_enabled=False, entities={u'url': {u'urls': [{u'url': u'https://t.co/Ux6CO7kuQj', u'indices': [0, 23], u'expanded_url': u'http://IfYouDontGetcho.com', u'display_url': u'IfYouDontGetcho.com'}]}, u'description': {u'urls': []}}, followers_count=45, protected=False, id_str=u'716613343', default_profile_image=False, listed_count=0, lang=u'en', utc_offset=-21600, statuses_count=2254, profile_background_color=u'000000', friends_count=77, profile_link_color=u'000000', profile_image_url=u'http://pbs.twimg.com/profile_images/931163396917088256/jhTWIb_j_normal.jpg', notifications=False, default_profile=False, profile_background_image_url_https=u'https://pbs.twimg.com/profile_background_images/598062586765049856/mCzPoGMg.jpg', profile_background_image_url=u'http://pbs.twimg.com/profile_background_images/598062586765049856/mCzPoGMg.jpg', name=u'4/28', is_translation_enabled=False, profile_background_tile=True, favourites_count=642, screen_name=u'_MOBmarley', url=u'https://t.co/Ux6CO7kuQj', created_at=datetime.datetime(2012, 7, 25, 19, 24, 32), contributors_enabled=False, location=u'Memphis', profile_sidebar_border_color=u'000000', translator_type=u'none', following=False), _json={u'contributors': None, u'truncated': False, u'text': u'RT @hondadeal4vets: Can bitcoin get me top', u'is_quote_status': False, u'in_reply_to_status_id': None, u'id': 935341461465452544, u'favorite_count': 0, u'entities': {u'symbols': [], u'user_mentions': [{u'id': 854165191180795904, u'indices': [3, 18], u'id_str': u'854165191180795904', u'screen_name': u'hondadeal4vets', u'name': u'Joseph Urban'}], u'hashtags': [], u'urls': []}, u'retweeted': False, u'coordinates': None, u'source': u'<a href=\"https://mobile.twitter.com\" rel=\"nofollow\">Twitter Lite</a>', u'in_reply_to_screen_name': None, u'in_reply_to_user_id': None, u'retweet_count': 312, u'id_str': u'935341461465452544', u'favorited': False, u'retweeted_status': {u'contributors': None, u'truncated': False, u'text': u'Can bitcoin get me top', u'is_quote_status': False, u'in_reply_to_status_id': None, u'id': 935315211451600896, u'favorite_count': 822, u'entities': {u'symbols': [], u'user_mentions': [], u'hashtags': [], u'urls': []}, u'retweeted': False, u'coordinates': None, u'source': u'<a href=\"http://twitter.com\" rel=\"nofollow\">Twitter Web Client</a>', u'in_reply_to_screen_name': None, u'in_reply_to_user_id': None, u'retweet_count': 312, u'id_str': u'935315211451600896', u'favorited': False, u'user': {u'follow_request_sent': False, u'has_extended_profile': True, u'profile_use_background_image': True, u'default_profile_image': False, u'id': 854165191180795904, u'profile_background_image_url_https': None, u'verified': False, u'translator_type': u'none', u'profile_text_color': u'333333', u'profile_image_url_https': u'https://pbs.twimg.com/profile_images/918249559561662464/1Yot4ppz_normal.jpg', u'profile_sidebar_fill_color': u'DDEEF6', u'entities': {u'description': {u'urls': []}}, u'followers_count': 57932, u'profile_sidebar_border_color': u'C0DEED', u'id_str': u'854165191180795904', u'profile_background_color': u'F5F8FA', u'listed_count': 204, u'is_translation_enabled': False, u'utc_offset': -28800, u'statuses_count': 2829, u'description': u'Disabled Vietnam Vet ,making car deal special for all Veterans and followers. DM for info on a car deal special #free #water #gang #madrappers', u'friends_count': 199, u'location': u'Burlingame, CA', u'profile_link_color': u'1DA1F2', u'profile_image_url': u'http://pbs.twimg.com/profile_images/918249559561662464/1Yot4ppz_normal.jpg', u'following': False, u'geo_enabled': True, u'profile_banner_url': u'https://pbs.twimg.com/profile_banners/854165191180795904/1503353053', u'profile_background_image_url': None, u'screen_name': u'hondadeal4vets', u'lang': u'en', u'profile_background_tile': False, u'favourites_count': 1523, u'name': u'Joseph Urban', u'notifications': False, u'url': None, u'created_at': u'Tue Apr 18 02:50:26 +0000 2017', u'contributors_enabled': False, u'time_zone': u'Pacific Time (US & Canada)', u'protected': False, u'default_profile': True, u'is_translator': False}, u'geo': None, u'in_reply_to_user_id_str': None, u'lang': u'en', u'created_at': u'Tue Nov 28 01:11:38 +0000 2017', u'in_reply_to_status_id_str': None, u'place': None, u'metadata': {u'iso_language_code': u'en', u'result_type': u'recent'}}, u'user': {u'follow_request_sent': False, u'has_extended_profile': False, u'profile_use_background_image': False, u'default_profile_image': False, u'id': 716613343, u'profile_background_image_url_https': u'https://pbs.twimg.com/profile_background_images/598062586765049856/mCzPoGMg.jpg', u'verified': False, u'translator_type': u'none', u'profile_text_color': u'000000', u'profile_image_url_https': u'https://pbs.twimg.com/profile_images/931163396917088256/jhTWIb_j_normal.jpg', u'profile_sidebar_fill_color': u'000000', u'entities': {u'url': {u'urls': [{u'url': u'https://t.co/Ux6CO7kuQj', u'indices': [0, 23], u'expanded_url': u'http://IfYouDontGetcho.com', u'display_url': u'IfYouDontGetcho.com'}]}, u'description': {u'urls': []}}, u'followers_count': 45, u'profile_sidebar_border_color': u'000000', u'id_str': u'716613343', u'profile_background_color': u'000000', u'listed_count': 0, u'is_translation_enabled': False, u'utc_offset': -21600, u'statuses_count': 2254, u'description': u'[Insert shit no one cares about here] \\n\\u2800 \\n   \\U0001f621\\u27a1\\U0001f608\\u27a1\\u2734\\U0001f479\\u2734', u'friends_count': 77, u'location': u'Memphis', u'profile_link_color': u'000000', u'profile_image_url': u'http://pbs.twimg.com/profile_images/931163396917088256/jhTWIb_j_normal.jpg', u'following': False, u'geo_enabled': False, u'profile_background_image_url': u'http://pbs.twimg.com/profile_background_images/598062586765049856/mCzPoGMg.jpg', u'screen_name': u'_MOBmarley', u'lang': u'en', u'profile_background_tile': True, u'favourites_count': 642, u'name': u'4/28', u'notifications': False, u'url': u'https://t.co/Ux6CO7kuQj', u'created_at': u'Wed Jul 25 19:24:32 +0000 2012', u'contributors_enabled': False, u'time_zone': u'Central Time (US & Canada)', u'protected': False, u'default_profile': False, u'is_translator': False}, u'geo': None, u'in_reply_to_user_id_str': None, u'lang': u'en', u'created_at': u'Tue Nov 28 02:55:56 +0000 2017', u'in_reply_to_status_id_str': None, u'place': None, u'metadata': {u'iso_language_code': u'en', u'result_type': u'recent'}}, coordinates=None, entities={u'symbols': [], u'user_mentions': [{u'id': 854165191180795904, u'indices': [3, 18], u'id_str': u'854165191180795904', u'screen_name': u'hondadeal4vets', u'name': u'Joseph Urban'}], u'hashtags': [], u'urls': []}, in_reply_to_screen_name=None, id_str=u'935341461465452544', retweet_count=312, in_reply_to_user_id=None, favorited=False, retweeted_status=Status(contributors=None, truncated=False, text=u'Can bitcoin get me top', is_quote_status=False, in_reply_to_status_id=None, id=935315211451600896, favorite_count=822, _api=<tweepy.api.API object at 0x7f429918bf90>, author=User(follow_request_sent=False, has_extended_profile=True, profile_use_background_image=True, _json={u'follow_request_sent': False, u'has_extended_profile': True, u'profile_use_background_image': True, u'default_profile_image': False, u'id': 854165191180795904, u'profile_background_image_url_https': None, u'verified': False, u'translator_type': u'none', u'profile_text_color': u'333333', u'profile_image_url_https': u'https://pbs.twimg.com/profile_images/918249559561662464/1Yot4ppz_normal.jpg', u'profile_sidebar_fill_color': u'DDEEF6', u'entities': {u'description': {u'urls': []}}, u'followers_count': 57932, u'profile_sidebar_border_color': u'C0DEED', u'id_str': u'854165191180795904', u'profile_background_color': u'F5F8FA', u'listed_count': 204, u'is_translation_enabled': False, u'utc_offset': -28800, u'statuses_count': 2829, u'description': u'Disabled Vietnam Vet ,making car deal special for all Veterans and followers. DM for info on a car deal special #free #water #gang #madrappers', u'friends_count': 199, u'location': u'Burlingame, CA', u'profile_link_color': u'1DA1F2', u'profile_image_url': u'http://pbs.twimg.com/profile_images/918249559561662464/1Yot4ppz_normal.jpg', u'following': False, u'geo_enabled': True, u'profile_banner_url': u'https://pbs.twimg.com/profile_banners/854165191180795904/1503353053', u'profile_background_image_url': None, u'screen_name': u'hondadeal4vets', u'lang': u'en', u'profile_background_tile': False, u'favourites_count': 1523, u'name': u'Joseph Urban', u'notifications': False, u'url': None, u'created_at': u'Tue Apr 18 02:50:26 +0000 2017', u'contributors_enabled': False, u'time_zone': u'Pacific Time (US & Canada)', u'protected': False, u'default_profile': True, u'is_translator': False}, time_zone=u'Pacific Time (US & Canada)', id=854165191180795904, description=u'Disabled Vietnam Vet ,making car deal special for all Veterans and followers. DM for info on a car deal special #free #water #gang #madrappers', _api=<tweepy.api.API object at 0x7f429918bf90>, verified=False, profile_text_color=u'333333', profile_image_url_https=u'https://pbs.twimg.com/profile_images/918249559561662464/1Yot4ppz_normal.jpg', profile_sidebar_fill_color=u'DDEEF6', is_translator=False, geo_enabled=True, entities={u'description': {u'urls': []}}, followers_count=57932, protected=False, id_str=u'854165191180795904', default_profile_image=False, listed_count=204, lang=u'en', utc_offset=-28800, statuses_count=2829, profile_background_color=u'F5F8FA', friends_count=199, profile_link_color=u'1DA1F2', profile_image_url=u'http://pbs.twimg.com/profile_images/918249559561662464/1Yot4ppz_normal.jpg', notifications=False, default_profile=True, profile_background_image_url_https=None, profile_banner_url=u'https://pbs.twimg.com/profile_banners/854165191180795904/1503353053', profile_background_image_url=None, name=u'Joseph Urban', is_translation_enabled=False, profile_background_tile=False, favourites_count=1523, screen_name=u'hondadeal4vets', url=None, created_at=datetime.datetime(2017, 4, 18, 2, 50, 26), contributors_enabled=False, location=u'Burlingame, CA', profile_sidebar_border_color=u'C0DEED', translator_type=u'none', following=False), _json={u'contributors': None, u'truncated': False, u'text': u'Can bitcoin get me top', u'is_quote_status': False, u'in_reply_to_status_id': None, u'id': 935315211451600896, u'favorite_count': 822, u'entities': {u'symbols': [], u'user_mentions': [], u'hashtags': [], u'urls': []}, u'retweeted': False, u'coordinates': None, u'source': u'<a href=\"http://twitter.com\" rel=\"nofollow\">Twitter Web Client</a>', u'in_reply_to_screen_name': None, u'in_reply_to_user_id': None, u'retweet_count': 312, u'id_str': u'935315211451600896', u'favorited': False, u'user': {u'follow_request_sent': False, u'has_extended_profile': True, u'profile_use_background_image': True, u'default_profile_image': False, u'id': 854165191180795904, u'profile_background_image_url_https': None, u'verified': False, u'translator_type': u'none', u'profile_text_color': u'333333', u'profile_image_url_https': u'https://pbs.twimg.com/profile_images/918249559561662464/1Yot4ppz_normal.jpg', u'profile_sidebar_fill_color': u'DDEEF6', u'entities': {u'description': {u'urls': []}}, u'followers_count': 57932, u'profile_sidebar_border_color': u'C0DEED', u'id_str': u'854165191180795904', u'profile_background_color': u'F5F8FA', u'listed_count': 204, u'is_translation_enabled': False, u'utc_offset': -28800, u'statuses_count': 2829, u'description': u'Disabled Vietnam Vet ,making car deal special for all Veterans and followers. DM for info on a car deal special #free #water #gang #madrappers', u'friends_count': 199, u'location': u'Burlingame, CA', u'profile_link_color': u'1DA1F2', u'profile_image_url': u'http://pbs.twimg.com/profile_images/918249559561662464/1Yot4ppz_normal.jpg', u'following': False, u'geo_enabled': True, u'profile_banner_url': u'https://pbs.twimg.com/profile_banners/854165191180795904/1503353053', u'profile_background_image_url': None, u'screen_name': u'hondadeal4vets', u'lang': u'en', u'profile_background_tile': False, u'favourites_count': 1523, u'name': u'Joseph Urban', u'notifications': False, u'url': None, u'created_at': u'Tue Apr 18 02:50:26 +0000 2017', u'contributors_enabled': False, u'time_zone': u'Pacific Time (US & Canada)', u'protected': False, u'default_profile': True, u'is_translator': False}, u'geo': None, u'in_reply_to_user_id_str': None, u'lang': u'en', u'created_at': u'Tue Nov 28 01:11:38 +0000 2017', u'in_reply_to_status_id_str': None, u'place': None, u'metadata': {u'iso_language_code': u'en', u'result_type': u'recent'}}, coordinates=None, entities={u'symbols': [], u'user_mentions': [], u'hashtags': [], u'urls': []}, in_reply_to_screen_name=None, id_str=u'935315211451600896', retweet_count=312, in_reply_to_user_id=None, favorited=False, source_url=u'http://twitter.com', user=User(follow_request_sent=False, has_extended_profile=True, profile_use_background_image=True, _json={u'follow_request_sent': False, u'has_extended_profile': True, u'profile_use_background_image': True, u'default_profile_image': False, u'id': 854165191180795904, u'profile_background_image_url_https': None, u'verified': False, u'translator_type': u'none', u'profile_text_color': u'333333', u'profile_image_url_https': u'https://pbs.twimg.com/profile_images/918249559561662464/1Yot4ppz_normal.jpg', u'profile_sidebar_fill_color': u'DDEEF6', u'entities': {u'description': {u'urls': []}}, u'followers_count': 57932, u'profile_sidebar_border_color': u'C0DEED', u'id_str': u'854165191180795904', u'profile_background_color': u'F5F8FA', u'listed_count': 204, u'is_translation_enabled': False, u'utc_offset': -28800, u'statuses_count': 2829, u'description': u'Disabled Vietnam Vet ,making car deal special for all Veterans and followers. DM for info on a car deal special #free #water #gang #madrappers', u'friends_count': 199, u'location': u'Burlingame, CA', u'profile_link_color': u'1DA1F2', u'profile_image_url': u'http://pbs.twimg.com/profile_images/918249559561662464/1Yot4ppz_normal.jpg', u'following': False, u'geo_enabled': True, u'profile_banner_url': u'https://pbs.twimg.com/profile_banners/854165191180795904/1503353053', u'profile_background_image_url': None, u'screen_name': u'hondadeal4vets', u'lang': u'en', u'profile_background_tile': False, u'favourites_count': 1523, u'name': u'Joseph Urban', u'notifications': False, u'url': None, u'created_at': u'Tue Apr 18 02:50:26 +0000 2017', u'contributors_enabled': False, u'time_zone': u'Pacific Time (US & Canada)', u'protected': False, u'default_profile': True, u'is_translator': False}, time_zone=u'Pacific Time (US & Canada)', id=854165191180795904, description=u'Disabled Vietnam Vet ,making car deal special for all Veterans and followers. DM for info on a car deal special #free #water #gang #madrappers', _api=<tweepy.api.API object at 0x7f429918bf90>, verified=False, profile_text_color=u'333333', profile_image_url_https=u'https://pbs.twimg.com/profile_images/918249559561662464/1Yot4ppz_normal.jpg', profile_sidebar_fill_color=u'DDEEF6', is_translator=False, geo_enabled=True, entities={u'description': {u'urls': []}}, followers_count=57932, protected=False, id_str=u'854165191180795904', default_profile_image=False, listed_count=204, lang=u'en', utc_offset=-28800, statuses_count=2829, profile_background_color=u'F5F8FA', friends_count=199, profile_link_color=u'1DA1F2', profile_image_url=u'http://pbs.twimg.com/profile_images/918249559561662464/1Yot4ppz_normal.jpg', notifications=False, default_profile=True, profile_background_image_url_https=None, profile_banner_url=u'https://pbs.twimg.com/profile_banners/854165191180795904/1503353053', profile_background_image_url=None, name=u'Joseph Urban', is_translation_enabled=False, profile_background_tile=False, favourites_count=1523, screen_name=u'hondadeal4vets', url=None, created_at=datetime.datetime(2017, 4, 18, 2, 50, 26), contributors_enabled=False, location=u'Burlingame, CA', profile_sidebar_border_color=u'C0DEED', translator_type=u'none', following=False), geo=None, in_reply_to_user_id_str=None, lang=u'en', created_at=datetime.datetime(2017, 11, 28, 1, 11, 38), in_reply_to_status_id_str=None, place=None, source=u'Twitter Web Client', retweeted=False, metadata={u'iso_language_code': u'en', u'result_type': u'recent'}), source_url=u'https://mobile.twitter.com', user=User(follow_request_sent=False, has_extended_profile=False, profile_use_background_image=False, _json={u'follow_request_sent': False, u'has_extended_profile': False, u'profile_use_background_image': False, u'default_profile_image': False, u'id': 716613343, u'profile_background_image_url_https': u'https://pbs.twimg.com/profile_background_images/598062586765049856/mCzPoGMg.jpg', u'verified': False, u'translator_type': u'none', u'profile_text_color': u'000000', u'profile_image_url_https': u'https://pbs.twimg.com/profile_images/931163396917088256/jhTWIb_j_normal.jpg', u'profile_sidebar_fill_color': u'000000', u'entities': {u'url': {u'urls': [{u'url': u'https://t.co/Ux6CO7kuQj', u'indices': [0, 23], u'expanded_url': u'http://IfYouDontGetcho.com', u'display_url': u'IfYouDontGetcho.com'}]}, u'description': {u'urls': []}}, u'followers_count': 45, u'profile_sidebar_border_color': u'000000', u'id_str': u'716613343', u'profile_background_color': u'000000', u'listed_count': 0, u'is_translation_enabled': False, u'utc_offset': -21600, u'statuses_count': 2254, u'description': u'[Insert shit no one cares about here] \\n\\u2800 \\n   \\U0001f621\\u27a1\\U0001f608\\u27a1\\u2734\\U0001f479\\u2734', u'friends_count': 77, u'location': u'Memphis', u'profile_link_color': u'000000', u'profile_image_url': u'http://pbs.twimg.com/profile_images/931163396917088256/jhTWIb_j_normal.jpg', u'following': False, u'geo_enabled': False, u'profile_background_image_url': u'http://pbs.twimg.com/profile_background_images/598062586765049856/mCzPoGMg.jpg', u'screen_name': u'_MOBmarley', u'lang': u'en', u'profile_background_tile': True, u'favourites_count': 642, u'name': u'4/28', u'notifications': False, u'url': u'https://t.co/Ux6CO7kuQj', u'created_at': u'Wed Jul 25 19:24:32 +0000 2012', u'contributors_enabled': False, u'time_zone': u'Central Time (US & Canada)', u'protected': False, u'default_profile': False, u'is_translator': False}, time_zone=u'Central Time (US & Canada)', id=716613343, description=u'[Insert shit no one cares about here] \\n\\u2800 \\n   \\U0001f621\\u27a1\\U0001f608\\u27a1\\u2734\\U0001f479\\u2734', _api=<tweepy.api.API object at 0x7f429918bf90>, verified=False, profile_text_color=u'000000', profile_image_url_https=u'https://pbs.twimg.com/profile_images/931163396917088256/jhTWIb_j_normal.jpg', profile_sidebar_fill_color=u'000000', is_translator=False, geo_enabled=False, entities={u'url': {u'urls': [{u'url': u'https://t.co/Ux6CO7kuQj', u'indices': [0, 23], u'expanded_url': u'http://IfYouDontGetcho.com', u'display_url': u'IfYouDontGetcho.com'}]}, u'description': {u'urls': []}}, followers_count=45, protected=False, id_str=u'716613343', default_profile_image=False, listed_count=0, lang=u'en', utc_offset=-21600, statuses_count=2254, profile_background_color=u'000000', friends_count=77, profile_link_color=u'000000', profile_image_url=u'http://pbs.twimg.com/profile_images/931163396917088256/jhTWIb_j_normal.jpg', notifications=False, default_profile=False, profile_background_image_url_https=u'https://pbs.twimg.com/profile_background_images/598062586765049856/mCzPoGMg.jpg', profile_background_image_url=u'http://pbs.twimg.com/profile_background_images/598062586765049856/mCzPoGMg.jpg', name=u'4/28', is_translation_enabled=False, profile_background_tile=True, favourites_count=642, screen_name=u'_MOBmarley', url=u'https://t.co/Ux6CO7kuQj', created_at=datetime.datetime(2012, 7, 25, 19, 24, 32), contributors_enabled=False, location=u'Memphis', profile_sidebar_border_color=u'000000', translator_type=u'none', following=False), geo=None, in_reply_to_user_id_str=None, lang=u'en', created_at=datetime.datetime(2017, 11, 28, 2, 55, 56), in_reply_to_status_id_str=None, place=None, source=u'Twitter Lite', retweeted=False, metadata={u'iso_language_code': u'en', u'result_type': u'recent'})\n"
     ]
    }
   ],
   "source": [
    "#id, created_at, source, favorite_count, retweet_count, geo, \n",
    "#coordinates, entities\n",
    "print(tweets[0])"
   ]
  },
  {
   "cell_type": "markdown",
   "metadata": {},
   "source": [
    "# Preprocessing and Analyzing Tweet"
   ]
  },
  {
   "cell_type": "code",
   "execution_count": 130,
   "metadata": {
    "collapsed": false
   },
   "outputs": [
    {
     "data": {
      "text/plain": [
       "90    RT @chengevelyn: Billionaire hedge fund manage...\n",
       "91    RT @charliebilello: Bitcoin's market cap just ...\n",
       "92    @JordanEliseo @Uber Chinese and Russians buyin...\n",
       "93    RT @BTCTN: The Bitcoin Entanglement\\n https://...\n",
       "94    RARE FUNDED 0.1 BITCOIN / BITCOIN CASH LEALANA...\n",
       "95    RT @intuitecon: What to hold going into #Bitco...\n",
       "96    RT @afonichev_dev: Widget for displaying the c...\n",
       "97    RT @alvinlindsay21: Bitcoin Mania Is Reaching ...\n",
       "98    @PolyfoamPontiff You can't profit mining bitco...\n",
       "99    RT @Cointelegraph: As #Bitcoin passes General ...\n",
       "Name: OriginalTweets, dtype: object"
      ]
     },
     "metadata": {},
     "output_type": "display_data"
    }
   ],
   "source": [
    "display(twitter_data[-10:][\"OriginalTweets\"])"
   ]
  },
  {
   "cell_type": "markdown",
   "metadata": {},
   "source": [
    "Here, I clean all the individual texts in the tweets that I have collected. This function goes through every tweet and goes through every word and converts it to lower case, removes any username and/or links, removes additional white spaces, and replaces hashtags with its word."
   ]
  },
  {
   "cell_type": "code",
   "execution_count": 131,
   "metadata": {
    "collapsed": false
   },
   "outputs": [],
   "source": [
    "def clean_tweet(tweet):\n",
    "    #' '.join(re.sub(\"(@[A-Za-z0-9]+)|([^0-9A-Za-z \\t])|(\\w+:\\/\\/\\S+)\", \" \", tweet).split())\n",
    "    #Convert to lower case\n",
    "    tweet = tweet.lower()\n",
    "    #Convert www.* or https?://* to URL\n",
    "    tweet = re.sub('((www\\.[^\\s]+)|(https?://[^\\s]+))','URL',tweet)\n",
    "    #Convert @username to AT_USER\n",
    "    tweet = re.sub('@[^\\s]+','AT_USER',tweet)\n",
    "    #Remove additional white spaces\n",
    "    tweet = re.sub('[\\s]+', ' ', tweet)\n",
    "    #Replace #word with word\n",
    "    tweet = re.sub(r'#([^\\s]+)', r'\\1', tweet)\n",
    "    #trim\n",
    "    tweet = tweet.strip('\\'\"')\n",
    "    return tweet"
   ]
  },
  {
   "cell_type": "markdown",
   "metadata": {},
   "source": [
    "After cleaning the tweet, I feed the preprocessed tweet into TextBlob which is a general sentiment analyzer which can be imported."
   ]
  },
  {
   "cell_type": "code",
   "execution_count": 132,
   "metadata": {
    "collapsed": true
   },
   "outputs": [],
   "source": [
    "def analyze_sentiment(tweet):\n",
    "    analysis = TextBlob(clean_tweet(tweet))\n",
    "    tweet_sentiment = round(analysis.sentiment.polarity,4)\n",
    "    return tweet_sentiment"
   ]
  },
  {
   "cell_type": "code",
   "execution_count": 133,
   "metadata": {
    "collapsed": false
   },
   "outputs": [
    {
     "data": {
      "text/plain": [
       "u'RT @hondadeal4vets: Can bitcoin get me top'"
      ]
     },
     "execution_count": 133,
     "metadata": {},
     "output_type": "execute_result"
    }
   ],
   "source": [
    "tweets[0].text"
   ]
  },
  {
   "cell_type": "markdown",
   "metadata": {},
   "source": [
    "Now that I've gotten the sentiment from the clean tweets, I put all of this data along with other attribute data from the tweets, into a Data Frame."
   ]
  },
  {
   "cell_type": "code",
   "execution_count": 134,
   "metadata": {
    "collapsed": false
   },
   "outputs": [
    {
     "data": {
      "text/html": [
       "<div>\n",
       "<table border=\"1\" class=\"dataframe\">\n",
       "  <thead>\n",
       "    <tr style=\"text-align: right;\">\n",
       "      <th></th>\n",
       "      <th>OriginalTweets</th>\n",
       "      <th>CleanTweets</th>\n",
       "      <th>Sentiment</th>\n",
       "    </tr>\n",
       "  </thead>\n",
       "  <tbody>\n",
       "    <tr>\n",
       "      <th>90</th>\n",
       "      <td>RT @chengevelyn: Billionaire hedge fund manage...</td>\n",
       "      <td>rt AT_USER billionaire hedge fund manager ken ...</td>\n",
       "      <td>0.0000</td>\n",
       "    </tr>\n",
       "    <tr>\n",
       "      <th>91</th>\n",
       "      <td>RT @charliebilello: Bitcoin's market cap just ...</td>\n",
       "      <td>rt AT_USER bitcoin's market cap just passed di...</td>\n",
       "      <td>0.0000</td>\n",
       "    </tr>\n",
       "    <tr>\n",
       "      <th>92</th>\n",
       "      <td>@JordanEliseo @Uber Chinese and Russians buyin...</td>\n",
       "      <td>AT_USER AT_USER chinese and russians buying go...</td>\n",
       "      <td>0.0000</td>\n",
       "    </tr>\n",
       "    <tr>\n",
       "      <th>93</th>\n",
       "      <td>RT @BTCTN: The Bitcoin Entanglement\\n https://...</td>\n",
       "      <td>rt AT_USER the bitcoin entanglement URL tbbt URL</td>\n",
       "      <td>0.0000</td>\n",
       "    </tr>\n",
       "    <tr>\n",
       "      <th>94</th>\n",
       "      <td>RARE FUNDED 0.1 BITCOIN / BITCOIN CASH LEALANA...</td>\n",
       "      <td>rare funded 0.1 bitcoin / bitcoin cash lealana...</td>\n",
       "      <td>0.3000</td>\n",
       "    </tr>\n",
       "    <tr>\n",
       "      <th>95</th>\n",
       "      <td>RT @intuitecon: What to hold going into #Bitco...</td>\n",
       "      <td>rt AT_USER what to hold going into bitcoin $10...</td>\n",
       "      <td>0.2143</td>\n",
       "    </tr>\n",
       "    <tr>\n",
       "      <th>96</th>\n",
       "      <td>RT @afonichev_dev: Widget for displaying the c...</td>\n",
       "      <td>rt AT_USER widget for displaying the course of...</td>\n",
       "      <td>0.0000</td>\n",
       "    </tr>\n",
       "    <tr>\n",
       "      <th>97</th>\n",
       "      <td>RT @alvinlindsay21: Bitcoin Mania Is Reaching ...</td>\n",
       "      <td>rt AT_USER bitcoin mania is reaching a fever p...</td>\n",
       "      <td>0.0000</td>\n",
       "    </tr>\n",
       "    <tr>\n",
       "      <th>98</th>\n",
       "      <td>@PolyfoamPontiff You can't profit mining bitco...</td>\n",
       "      <td>AT_USER you can't profit mining bitcoin at hom...</td>\n",
       "      <td>0.0000</td>\n",
       "    </tr>\n",
       "    <tr>\n",
       "      <th>99</th>\n",
       "      <td>RT @Cointelegraph: As #Bitcoin passes General ...</td>\n",
       "      <td>rt AT_USER as bitcoin passes general electric ...</td>\n",
       "      <td>0.0500</td>\n",
       "    </tr>\n",
       "  </tbody>\n",
       "</table>\n",
       "</div>"
      ],
      "text/plain": [
       "                                       OriginalTweets  \\\n",
       "90  RT @chengevelyn: Billionaire hedge fund manage...   \n",
       "91  RT @charliebilello: Bitcoin's market cap just ...   \n",
       "92  @JordanEliseo @Uber Chinese and Russians buyin...   \n",
       "93  RT @BTCTN: The Bitcoin Entanglement\\n https://...   \n",
       "94  RARE FUNDED 0.1 BITCOIN / BITCOIN CASH LEALANA...   \n",
       "95  RT @intuitecon: What to hold going into #Bitco...   \n",
       "96  RT @afonichev_dev: Widget for displaying the c...   \n",
       "97  RT @alvinlindsay21: Bitcoin Mania Is Reaching ...   \n",
       "98  @PolyfoamPontiff You can't profit mining bitco...   \n",
       "99  RT @Cointelegraph: As #Bitcoin passes General ...   \n",
       "\n",
       "                                          CleanTweets  Sentiment  \n",
       "90  rt AT_USER billionaire hedge fund manager ken ...     0.0000  \n",
       "91  rt AT_USER bitcoin's market cap just passed di...     0.0000  \n",
       "92  AT_USER AT_USER chinese and russians buying go...     0.0000  \n",
       "93   rt AT_USER the bitcoin entanglement URL tbbt URL     0.0000  \n",
       "94  rare funded 0.1 bitcoin / bitcoin cash lealana...     0.3000  \n",
       "95  rt AT_USER what to hold going into bitcoin $10...     0.2143  \n",
       "96  rt AT_USER widget for displaying the course of...     0.0000  \n",
       "97  rt AT_USER bitcoin mania is reaching a fever p...     0.0000  \n",
       "98  AT_USER you can't profit mining bitcoin at hom...     0.0000  \n",
       "99  rt AT_USER as bitcoin passes general electric ...     0.0500  "
      ]
     },
     "metadata": {},
     "output_type": "display_data"
    }
   ],
   "source": [
    "twitter_data['CleanTweets'] = np.array([clean_tweet(tweet.text) for tweet in tweets])\n",
    "twitter_data['Sentiment'] = np.array([analyze_sentiment(tweet.text) for tweet in tweets])\n",
    "display(twitter_data[-10:])"
   ]
  },
  {
   "cell_type": "code",
   "execution_count": 135,
   "metadata": {
    "collapsed": false
   },
   "outputs": [],
   "source": [
    "#Creating datatable framework using some of values present in the tweet\n",
    "def addmorefeatures(tweets):\n",
    "    twitter_data['length'] = np.array([len(tweet.text) for tweet in tweets])\n",
    "    twitter_data['ID'] = np.array([tweet.id for tweet in tweets])\n",
    "    twitter_data['Date'] = np.array([tweet.created_at for tweet in tweets])\n",
    "    twitter_data['Source'] = np.array([tweet.source for tweet in tweets])\n",
    "    twitter_data['Likes'] = np.array([tweet.favorite_count for tweet in tweets])\n",
    "    twitter_data['RTs'] = np.array([tweet.retweet_count for tweet in tweets])\n",
    "    return twitter_data\n",
    "#twitter_data['Sentiment'] = np.array([TextBlob(tweet.text).sentiment for tweet in tweets])"
   ]
  },
  {
   "cell_type": "code",
   "execution_count": 136,
   "metadata": {
    "collapsed": false
   },
   "outputs": [
    {
     "data": {
      "text/html": [
       "<div>\n",
       "<table border=\"1\" class=\"dataframe\">\n",
       "  <thead>\n",
       "    <tr style=\"text-align: right;\">\n",
       "      <th></th>\n",
       "      <th>OriginalTweets</th>\n",
       "      <th>CleanTweets</th>\n",
       "      <th>Sentiment</th>\n",
       "      <th>length</th>\n",
       "      <th>ID</th>\n",
       "      <th>Date</th>\n",
       "      <th>Source</th>\n",
       "      <th>Likes</th>\n",
       "      <th>RTs</th>\n",
       "    </tr>\n",
       "  </thead>\n",
       "  <tbody>\n",
       "    <tr>\n",
       "      <th>90</th>\n",
       "      <td>RT @chengevelyn: Billionaire hedge fund manage...</td>\n",
       "      <td>rt AT_USER billionaire hedge fund manager ken ...</td>\n",
       "      <td>0.0000</td>\n",
       "      <td>135</td>\n",
       "      <td>935341289385742338</td>\n",
       "      <td>2017-11-28 02:55:15</td>\n",
       "      <td>Twitter for iPhone</td>\n",
       "      <td>0</td>\n",
       "      <td>2</td>\n",
       "    </tr>\n",
       "    <tr>\n",
       "      <th>91</th>\n",
       "      <td>RT @charliebilello: Bitcoin's market cap just ...</td>\n",
       "      <td>rt AT_USER bitcoin's market cap just passed di...</td>\n",
       "      <td>0.0000</td>\n",
       "      <td>140</td>\n",
       "      <td>935341287896526848</td>\n",
       "      <td>2017-11-28 02:55:15</td>\n",
       "      <td>Twitter for iPhone</td>\n",
       "      <td>0</td>\n",
       "      <td>872</td>\n",
       "    </tr>\n",
       "    <tr>\n",
       "      <th>92</th>\n",
       "      <td>@JordanEliseo @Uber Chinese and Russians buyin...</td>\n",
       "      <td>AT_USER AT_USER chinese and russians buying go...</td>\n",
       "      <td>0.0000</td>\n",
       "      <td>74</td>\n",
       "      <td>935341287447736320</td>\n",
       "      <td>2017-11-28 02:55:15</td>\n",
       "      <td>Twitter for iPhone</td>\n",
       "      <td>0</td>\n",
       "      <td>0</td>\n",
       "    </tr>\n",
       "    <tr>\n",
       "      <th>93</th>\n",
       "      <td>RT @BTCTN: The Bitcoin Entanglement\\n https://...</td>\n",
       "      <td>rt AT_USER the bitcoin entanglement URL tbbt URL</td>\n",
       "      <td>0.0000</td>\n",
       "      <td>90</td>\n",
       "      <td>935341286843760640</td>\n",
       "      <td>2017-11-28 02:55:15</td>\n",
       "      <td>Twitter for iPhone</td>\n",
       "      <td>0</td>\n",
       "      <td>142</td>\n",
       "    </tr>\n",
       "    <tr>\n",
       "      <th>94</th>\n",
       "      <td>RARE FUNDED 0.1 BITCOIN / BITCOIN CASH LEALANA...</td>\n",
       "      <td>rare funded 0.1 bitcoin / bitcoin cash lealana...</td>\n",
       "      <td>0.3000</td>\n",
       "      <td>81</td>\n",
       "      <td>935341286290321409</td>\n",
       "      <td>2017-11-28 02:55:15</td>\n",
       "      <td>IFTTT</td>\n",
       "      <td>0</td>\n",
       "      <td>0</td>\n",
       "    </tr>\n",
       "    <tr>\n",
       "      <th>95</th>\n",
       "      <td>RT @intuitecon: What to hold going into #Bitco...</td>\n",
       "      <td>rt AT_USER what to hold going into bitcoin $10...</td>\n",
       "      <td>0.2143</td>\n",
       "      <td>140</td>\n",
       "      <td>935341284255989760</td>\n",
       "      <td>2017-11-28 02:55:14</td>\n",
       "      <td>Twitter for iPhone</td>\n",
       "      <td>0</td>\n",
       "      <td>2</td>\n",
       "    </tr>\n",
       "    <tr>\n",
       "      <th>96</th>\n",
       "      <td>RT @afonichev_dev: Widget for displaying the c...</td>\n",
       "      <td>rt AT_USER widget for displaying the course of...</td>\n",
       "      <td>0.0000</td>\n",
       "      <td>140</td>\n",
       "      <td>935341283308113920</td>\n",
       "      <td>2017-11-28 02:55:14</td>\n",
       "      <td>Twitter Web Client</td>\n",
       "      <td>0</td>\n",
       "      <td>688</td>\n",
       "    </tr>\n",
       "    <tr>\n",
       "      <th>97</th>\n",
       "      <td>RT @alvinlindsay21: Bitcoin Mania Is Reaching ...</td>\n",
       "      <td>rt AT_USER bitcoin mania is reaching a fever p...</td>\n",
       "      <td>0.0000</td>\n",
       "      <td>119</td>\n",
       "      <td>935341282951680000</td>\n",
       "      <td>2017-11-28 02:55:14</td>\n",
       "      <td>Twitter for Android</td>\n",
       "      <td>0</td>\n",
       "      <td>4</td>\n",
       "    </tr>\n",
       "    <tr>\n",
       "      <th>98</th>\n",
       "      <td>@PolyfoamPontiff You can't profit mining bitco...</td>\n",
       "      <td>AT_USER you can't profit mining bitcoin at hom...</td>\n",
       "      <td>0.0000</td>\n",
       "      <td>90</td>\n",
       "      <td>935341282318315520</td>\n",
       "      <td>2017-11-28 02:55:14</td>\n",
       "      <td>TweetDeck</td>\n",
       "      <td>0</td>\n",
       "      <td>0</td>\n",
       "    </tr>\n",
       "    <tr>\n",
       "      <th>99</th>\n",
       "      <td>RT @Cointelegraph: As #Bitcoin passes General ...</td>\n",
       "      <td>rt AT_USER as bitcoin passes general electric ...</td>\n",
       "      <td>0.0500</td>\n",
       "      <td>116</td>\n",
       "      <td>935341279050944513</td>\n",
       "      <td>2017-11-28 02:55:13</td>\n",
       "      <td>Twitter Web Client</td>\n",
       "      <td>0</td>\n",
       "      <td>42</td>\n",
       "    </tr>\n",
       "  </tbody>\n",
       "</table>\n",
       "</div>"
      ],
      "text/plain": [
       "                                       OriginalTweets  \\\n",
       "90  RT @chengevelyn: Billionaire hedge fund manage...   \n",
       "91  RT @charliebilello: Bitcoin's market cap just ...   \n",
       "92  @JordanEliseo @Uber Chinese and Russians buyin...   \n",
       "93  RT @BTCTN: The Bitcoin Entanglement\\n https://...   \n",
       "94  RARE FUNDED 0.1 BITCOIN / BITCOIN CASH LEALANA...   \n",
       "95  RT @intuitecon: What to hold going into #Bitco...   \n",
       "96  RT @afonichev_dev: Widget for displaying the c...   \n",
       "97  RT @alvinlindsay21: Bitcoin Mania Is Reaching ...   \n",
       "98  @PolyfoamPontiff You can't profit mining bitco...   \n",
       "99  RT @Cointelegraph: As #Bitcoin passes General ...   \n",
       "\n",
       "                                          CleanTweets  Sentiment  length  \\\n",
       "90  rt AT_USER billionaire hedge fund manager ken ...     0.0000     135   \n",
       "91  rt AT_USER bitcoin's market cap just passed di...     0.0000     140   \n",
       "92  AT_USER AT_USER chinese and russians buying go...     0.0000      74   \n",
       "93   rt AT_USER the bitcoin entanglement URL tbbt URL     0.0000      90   \n",
       "94  rare funded 0.1 bitcoin / bitcoin cash lealana...     0.3000      81   \n",
       "95  rt AT_USER what to hold going into bitcoin $10...     0.2143     140   \n",
       "96  rt AT_USER widget for displaying the course of...     0.0000     140   \n",
       "97  rt AT_USER bitcoin mania is reaching a fever p...     0.0000     119   \n",
       "98  AT_USER you can't profit mining bitcoin at hom...     0.0000      90   \n",
       "99  rt AT_USER as bitcoin passes general electric ...     0.0500     116   \n",
       "\n",
       "                    ID                Date               Source  Likes  RTs  \n",
       "90  935341289385742338 2017-11-28 02:55:15   Twitter for iPhone      0    2  \n",
       "91  935341287896526848 2017-11-28 02:55:15   Twitter for iPhone      0  872  \n",
       "92  935341287447736320 2017-11-28 02:55:15   Twitter for iPhone      0    0  \n",
       "93  935341286843760640 2017-11-28 02:55:15   Twitter for iPhone      0  142  \n",
       "94  935341286290321409 2017-11-28 02:55:15                IFTTT      0    0  \n",
       "95  935341284255989760 2017-11-28 02:55:14   Twitter for iPhone      0    2  \n",
       "96  935341283308113920 2017-11-28 02:55:14   Twitter Web Client      0  688  \n",
       "97  935341282951680000 2017-11-28 02:55:14  Twitter for Android      0    4  \n",
       "98  935341282318315520 2017-11-28 02:55:14            TweetDeck      0    0  \n",
       "99  935341279050944513 2017-11-28 02:55:13   Twitter Web Client      0   42  "
      ]
     },
     "metadata": {},
     "output_type": "display_data"
    }
   ],
   "source": [
    "twitter_data = addmorefeatures(tweets)\n",
    "display(twitter_data[-10:])"
   ]
  },
  {
   "cell_type": "markdown",
   "metadata": {},
   "source": [
    "# Stats and Visualization"
   ]
  },
  {
   "cell_type": "code",
   "execution_count": 137,
   "metadata": {
    "collapsed": false
   },
   "outputs": [
    {
     "name": "stdout",
     "output_type": "stream",
     "text": [
      "mean = 114.73\n",
      "max likes = 2\n"
     ]
    }
   ],
   "source": [
    "mean = np.mean(twitter_data['length'])\n",
    "likes_max = np.max(twitter_data['Likes'])\n",
    "print('mean = ' + str(mean))\n",
    "print('max likes = ' + str(likes_max))"
   ]
  },
  {
   "cell_type": "code",
   "execution_count": 139,
   "metadata": {
    "collapsed": false
   },
   "outputs": [
    {
     "name": "stdout",
     "output_type": "stream",
     "text": [
      "Tweet with most likes is RT @hondadeal4vets: Can bitcoin get me top\n",
      "Number of likes: 2\n",
      "42 characters\n",
      "\n",
      "Tweet with most retweets is RT @hondadeal4vets: Can bitcoin get me top\n",
      "Number of retweets: 8927\n",
      "42 characters\n"
     ]
    }
   ],
   "source": [
    "fav_max = np.max(twitter_data['Likes'])\n",
    "rt_max = np.max(twitter_data['RTs'])\n",
    "\n",
    "fav = twitter_data[twitter_data == fav_max].index[0]\n",
    "rt = twitter_data[twitter_data == rt_max].index[0]\n",
    "\n",
    "print(\"Tweet with most likes is \" + str(twitter_data['OriginalTweets'][fav]))\n",
    "print(\"Number of likes: \" + str(fav_max))\n",
    "print(str(twitter_data['length'][fav]) + \" characters\")\n",
    "print('')\n",
    "print(\"Tweet with most retweets is \" + str(twitter_data['OriginalTweets'][rt]))\n",
    "print(\"Number of retweets: \" + str(rt_max))\n",
    "print(str(twitter_data['length'][rt]) + \" characters\")"
   ]
  },
  {
   "cell_type": "markdown",
   "metadata": {},
   "source": [
    "Time Series"
   ]
  },
  {
   "cell_type": "code",
   "execution_count": 140,
   "metadata": {
    "collapsed": false,
    "scrolled": true
   },
   "outputs": [],
   "source": [
    "time_length = pd.Series(data = twitter_data['length'].values, index = twitter_data['Date'])\n",
    "time_fav = pd.Series(data = twitter_data['Likes'].values, index = twitter_data['Date'])\n",
    "time_rt = pd.Series(data = twitter_data['RTs'].values, index = twitter_data['Date'])"
   ]
  },
  {
   "cell_type": "code",
   "execution_count": 141,
   "metadata": {
    "collapsed": false
   },
   "outputs": [
    {
     "data": {
      "text/plain": [
       "<matplotlib.axes._subplots.AxesSubplot at 0x7f4298f1fe50>"
      ]
     },
     "execution_count": 141,
     "metadata": {},
     "output_type": "execute_result"
    },
    {
     "data": {
      "image/png": "[encoded data removed]",
      "text/plain": [
       "<matplotlib.figure.Figure at 0x7f429918b9d0>"
      ]
     },
     "metadata": {},
     "output_type": "display_data"
    }
   ],
   "source": [
    "time_length.plot(figsize = (16, 4), color = 'r')\n",
    "time_fav.plot(figsize = (16,4), color = 'g')\n",
    "#time_rt.plot(figsize = (16,4), color = 'b')"
   ]
  },
  {
   "cell_type": "markdown",
   "metadata": {},
   "source": [
    "Pie Graph for SA of tweet collection"
   ]
  },
  {
   "cell_type": "code",
   "execution_count": 142,
   "metadata": {
    "collapsed": false
   },
   "outputs": [
    {
     "name": "stdout",
     "output_type": "stream",
     "text": [
      "Positive\n",
      "Neutral\n",
      "Negative\n"
     ]
    }
   ],
   "source": [
    "SAs =['Positive', 'Neutral', 'Negative']\n",
    "for sa in SAs:\n",
    "    print(sa)"
   ]
  },
  {
   "cell_type": "code",
   "execution_count": 143,
   "metadata": {
    "collapsed": false
   },
   "outputs": [
    {
     "data": {
      "text/plain": [
       "<matplotlib.axes._subplots.AxesSubplot at 0x7f4299375b10>"
      ]
     },
     "execution_count": 143,
     "metadata": {},
     "output_type": "execute_result"
    },
    {
     "data": {
      "image/png": "[encoded data removed]",
      "text/plain": [
       "<matplotlib.figure.Figure at 0x7f4299250f50>"
      ]
     },
     "metadata": {},
     "output_type": "display_data"
    }
   ],
   "source": [
    "percent = np.zeros(len(SAs))\n",
    "\n",
    "for sa in twitter_data['Sentiment']:\n",
    "    if sa == 0.0000:\n",
    "        sa = 'Neutral'\n",
    "    elif sa > 0.0000:\n",
    "        sa = 'Positive'\n",
    "    else: \n",
    "        sa = 'Negative'\n",
    "    for index in range(len(SAs)):\n",
    "        if sa == SAs[index]:\n",
    "            percent[index] += 1\n",
    "            pass\n",
    "percent /= (tweet_count/len(SAs))\n",
    "\n",
    "pie_chart = pd.Series(percent, index = SAs, name = 'SAs')\n",
    "pie_chart.plot.pie(fontsize = 11, autopct = '%.2f', figsize = (6,6))"
   ]
  },
  {
   "cell_type": "code",
   "execution_count": 69,
   "metadata": {
    "collapsed": false
   },
   "outputs": [],
   "source": [
    "pos_tweets = [ tweet for index, tweet in enumerate(twitter_data['OriginalTweets']) if twitter_data['Sentiment'][index] > 0]\n",
    "neu_tweets = [ tweet for index, tweet in enumerate(twitter_data['OriginalTweets']) if twitter_data['Sentiment'][index] == 0]\n",
    "neg_tweets = [ tweet for index, tweet in enumerate(twitter_data['OriginalTweets']) if twitter_data['Sentiment'][index] < 0]"
   ]
  },
  {
   "cell_type": "code",
   "execution_count": 75,
   "metadata": {
    "collapsed": false
   },
   "outputs": [
    {
     "name": "stdout",
     "output_type": "stream",
     "text": [
      "Percentage of positive tweets: 52%\n",
      "Percentage neutral tweets: 41%\n",
      "Percentage negative tweets: 7%\n"
     ]
    }
   ],
   "source": [
    "print(\"Percentage of positive tweets: {}%\".format(len(pos_tweets) * 100/len(twitter_data['OriginalTweets'])))\n",
    "print(\"Percentage neutral tweets: {}%\".format(len(neu_tweets) * 100 / len(twitter_data['OriginalTweets'])))\n",
    "print(\"Percentage negative tweets: {}%\".format(len(neg_tweets) * 100 / len(twitter_data['OriginalTweets'])))"
   ]
  },
  {
   "cell_type": "markdown",
   "metadata": {},
   "source": [
    "Pie Graph for sources of tweet collection"
   ]
  },
  {
   "cell_type": "code",
   "execution_count": 66,
   "metadata": {
    "collapsed": false
   },
   "outputs": [
    {
     "name": "stdout",
     "output_type": "stream",
     "text": [
      "Twitter for Android\n",
      "Twitter Web Client\n",
      "Twitter for iPhone\n",
      "Twitter Lite\n",
      "TweetDeck\n",
      "New Block Tweets\n",
      "Coin Spectator\n",
      "twicca\n",
      "CryptoSpeaker\n",
      "IFTTT\n",
      "StartupUSATato\n",
      "TheEmotiBot\n",
      "BitCoinNewEN\n",
      "wuweitactic\n",
      "Twitter for iPad\n",
      "cryptominingnews\n",
      "PrometheusII\n",
      "Google\n",
      "WordPress.com\n"
     ]
    }
   ],
   "source": [
    "sources = []\n",
    "for source in twitter_data['Source']:\n",
    "    if source not in sources:\n",
    "        sources.append(source)\n",
    "        \n",
    "for source in sources:\n",
    "    print(source)"
   ]
  },
  {
   "cell_type": "code",
   "execution_count": 67,
   "metadata": {
    "collapsed": false
   },
   "outputs": [
    {
     "data": {
      "text/plain": [
       "<matplotlib.axes._subplots.AxesSubplot at 0x7f429bc84210>"
      ]
     },
     "execution_count": 67,
     "metadata": {},
     "output_type": "execute_result"
    },
    {
     "data": {
      "image/png": "[encoded data removed]",
      "text/plain": [
       "<matplotlib.figure.Figure at 0x7f429bb9a6d0>"
      ]
     },
     "metadata": {},
     "output_type": "display_data"
    }
   ],
   "source": [
    "percent = np.zeros(len(sources))\n",
    "\n",
    "for source in twitter_data['Source']:\n",
    "    for index in range(len(sources)):\n",
    "        if source == sources[index]:\n",
    "            percent[index] += 1\n",
    "            pass\n",
    "percent /= (tweet_count/len(sources)) #number of tweets collected divided by number of types of sources\n",
    "\n",
    "pie_chart = pd.Series(percent, index = sources, name = 'Sources')\n",
    "pie_chart.plot.pie(fontsize = 11, autopct = '%.2f', figsize = (6,6))"
   ]
  }
 ],
 "metadata": {
  "anaconda-cloud": {},
  "kernelspec": {
   "display_name": "Python [conda root]",
   "language": "python",
   "name": "conda-root-py"
  },
  "language_info": {
   "codemirror_mode": {
    "name": "ipython",
    "version": 2
   },
   "file_extension": ".py",
   "mimetype": "text/x-python",
   "name": "python",
   "nbconvert_exporter": "python",
   "pygments_lexer": "ipython2",
   "version": "2.7.12"
  }
 },
 "nbformat": 4,
 "nbformat_minor": 1
}
